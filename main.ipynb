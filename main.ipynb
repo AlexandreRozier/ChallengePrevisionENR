{
 "cells": [
  {
   "cell_type": "code",
   "execution_count": 88,
   "metadata": {},
   "outputs": [],
   "source": [
    "import csv\n",
    "from datetime import timedelta\n",
    "\n",
    "import pandas as pd\n",
    "import pyreadr\n",
    "from sklearn.linear_model import LinearRegression"
   ]
  },
  {
   "cell_type": "code",
   "execution_count": 89,
   "outputs": [
    {
     "data": {
      "text/plain": "  SUBSTATION       LON        LAT\n0      A.COM  2.512180  50.272269\n1      HOSTE -0.625940  44.485958\n2      CXSSE  4.511712  48.838806\n3      ONDES  1.305962  43.784788",
      "text/html": "<div>\n<style scoped>\n    .dataframe tbody tr th:only-of-type {\n        vertical-align: middle;\n    }\n\n    .dataframe tbody tr th {\n        vertical-align: top;\n    }\n\n    .dataframe thead th {\n        text-align: right;\n    }\n</style>\n<table border=\"1\" class=\"dataframe\">\n  <thead>\n    <tr style=\"text-align: right;\">\n      <th></th>\n      <th>SUBSTATION</th>\n      <th>LON</th>\n      <th>LAT</th>\n    </tr>\n  </thead>\n  <tbody>\n    <tr>\n      <th>0</th>\n      <td>A.COM</td>\n      <td>2.512180</td>\n      <td>50.272269</td>\n    </tr>\n    <tr>\n      <th>1</th>\n      <td>HOSTE</td>\n      <td>-0.625940</td>\n      <td>44.485958</td>\n    </tr>\n    <tr>\n      <th>2</th>\n      <td>CXSSE</td>\n      <td>4.511712</td>\n      <td>48.838806</td>\n    </tr>\n    <tr>\n      <th>3</th>\n      <td>ONDES</td>\n      <td>1.305962</td>\n      <td>43.784788</td>\n    </tr>\n  </tbody>\n</table>\n</div>"
     },
     "execution_count": 89,
     "metadata": {},
     "output_type": "execute_result"
    }
   ],
   "source": [
    "substation_df = pd.read_csv('coord_substations.csv')\n",
    "substation_df"
   ],
   "metadata": {
    "collapsed": false,
    "pycharm": {
     "name": "#%%\n"
    }
   }
  },
  {
   "cell_type": "code",
   "execution_count": 90,
   "metadata": {
    "pycharm": {
     "name": "#%%\n"
    }
   },
   "outputs": [
    {
     "data": {
      "text/plain": "   IOMM  code_station           Station       NOM_USUEL   Coeff  Code_postal  \\\n0     2          7002  BOULOGNE-SUR-MER    BOULOGNE-SEM  0,0100        62200   \n1     5          7005         ABBEVILLE       ABBEVILLE  0,0100        80100   \n2    15          7015             LILLE   LILLE-LESQUIN  0,0300        59000   \n3    27          7027              CAEN  CAEN-CARPIQUET  0,0250        14000   \n4    72          7072             REIMS    REIMS-PRUNAY  0,0000        51100   \n\n   Code_insee  Reg        Label_reg  Dep LATITUDE LONGITUDE  ALTITUDE  \n0       62160  NPP  Hauts-de-France   62   50,733     1,600        73  \n1       80001  NPP  Hauts-de-France   80   50,136     1,834        69  \n2       59350  NPP  Hauts-de-France   59   50,570     3,098        47  \n3       14118  NOR        Normandie   14   49,180    -0,456        67  \n4       51454  ACA        Grand-Est   51   49,210     4,155        95  ",
      "text/html": "<div>\n<style scoped>\n    .dataframe tbody tr th:only-of-type {\n        vertical-align: middle;\n    }\n\n    .dataframe tbody tr th {\n        vertical-align: top;\n    }\n\n    .dataframe thead th {\n        text-align: right;\n    }\n</style>\n<table border=\"1\" class=\"dataframe\">\n  <thead>\n    <tr style=\"text-align: right;\">\n      <th></th>\n      <th>IOMM</th>\n      <th>code_station</th>\n      <th>Station</th>\n      <th>NOM_USUEL</th>\n      <th>Coeff</th>\n      <th>Code_postal</th>\n      <th>Code_insee</th>\n      <th>Reg</th>\n      <th>Label_reg</th>\n      <th>Dep</th>\n      <th>LATITUDE</th>\n      <th>LONGITUDE</th>\n      <th>ALTITUDE</th>\n    </tr>\n  </thead>\n  <tbody>\n    <tr>\n      <th>0</th>\n      <td>2</td>\n      <td>7002</td>\n      <td>BOULOGNE-SUR-MER</td>\n      <td>BOULOGNE-SEM</td>\n      <td>0,0100</td>\n      <td>62200</td>\n      <td>62160</td>\n      <td>NPP</td>\n      <td>Hauts-de-France</td>\n      <td>62</td>\n      <td>50,733</td>\n      <td>1,600</td>\n      <td>73</td>\n    </tr>\n    <tr>\n      <th>1</th>\n      <td>5</td>\n      <td>7005</td>\n      <td>ABBEVILLE</td>\n      <td>ABBEVILLE</td>\n      <td>0,0100</td>\n      <td>80100</td>\n      <td>80001</td>\n      <td>NPP</td>\n      <td>Hauts-de-France</td>\n      <td>80</td>\n      <td>50,136</td>\n      <td>1,834</td>\n      <td>69</td>\n    </tr>\n    <tr>\n      <th>2</th>\n      <td>15</td>\n      <td>7015</td>\n      <td>LILLE</td>\n      <td>LILLE-LESQUIN</td>\n      <td>0,0300</td>\n      <td>59000</td>\n      <td>59350</td>\n      <td>NPP</td>\n      <td>Hauts-de-France</td>\n      <td>59</td>\n      <td>50,570</td>\n      <td>3,098</td>\n      <td>47</td>\n    </tr>\n    <tr>\n      <th>3</th>\n      <td>27</td>\n      <td>7027</td>\n      <td>CAEN</td>\n      <td>CAEN-CARPIQUET</td>\n      <td>0,0250</td>\n      <td>14000</td>\n      <td>14118</td>\n      <td>NOR</td>\n      <td>Normandie</td>\n      <td>14</td>\n      <td>49,180</td>\n      <td>-0,456</td>\n      <td>67</td>\n    </tr>\n    <tr>\n      <th>4</th>\n      <td>72</td>\n      <td>7072</td>\n      <td>REIMS</td>\n      <td>REIMS-PRUNAY</td>\n      <td>0,0000</td>\n      <td>51100</td>\n      <td>51454</td>\n      <td>ACA</td>\n      <td>Grand-Est</td>\n      <td>51</td>\n      <td>49,210</td>\n      <td>4,155</td>\n      <td>95</td>\n    </tr>\n  </tbody>\n</table>\n</div>"
     },
     "execution_count": 90,
     "metadata": {},
     "output_type": "execute_result"
    }
   ],
   "source": [
    "station_df = pd.read_csv('liste_stations.csv', sep=';')\n",
    "station_df.head()\n"
   ]
  },
  {
   "cell_type": "code",
   "execution_count": 91,
   "metadata": {
    "pycharm": {
     "name": "#%%\n"
    }
   },
   "outputs": [
    {
     "data": {
      "text/plain": "                date_cible perimetre_prod type_prod  comptage  \\\n0      2016-01-01 00:00:00          A.COM    eolien      47.5   \n1      2016-01-01 00:00:00          CXSSE    eolien      24.2   \n2      2016-01-01 00:00:00          HOSTE        pv       0.0   \n3      2016-01-01 00:00:00       national        pv       0.0   \n4      2016-01-01 00:00:00       national    eolien    2199.0   \n...                    ...            ...       ...       ...   \n420657 2019-12-31 23:00:00          ONDES        pv       NaN   \n420658 2019-12-31 23:30:00          HOSTE        pv       NaN   \n420659 2019-12-31 23:30:00       national        pv       NaN   \n420660 2019-12-31 23:30:00       national    eolien       NaN   \n420661 2019-12-31 23:30:00          ONDES        pv       NaN   \n\n        puissance_installee        FC  \n0                     104.7  0.453677  \n1                      85.8  0.282051  \n2                      54.0  0.000000  \n3                    6006.0  0.000000  \n4                   10201.0  0.215567  \n...                     ...       ...  \n420657                 26.8       NaN  \n420658                 54.0       NaN  \n420659               9258.0       NaN  \n420660              16035.0       NaN  \n420661                 26.8       NaN  \n\n[420662 rows x 6 columns]",
      "text/html": "<div>\n<style scoped>\n    .dataframe tbody tr th:only-of-type {\n        vertical-align: middle;\n    }\n\n    .dataframe tbody tr th {\n        vertical-align: top;\n    }\n\n    .dataframe thead th {\n        text-align: right;\n    }\n</style>\n<table border=\"1\" class=\"dataframe\">\n  <thead>\n    <tr style=\"text-align: right;\">\n      <th></th>\n      <th>date_cible</th>\n      <th>perimetre_prod</th>\n      <th>type_prod</th>\n      <th>comptage</th>\n      <th>puissance_installee</th>\n      <th>FC</th>\n    </tr>\n  </thead>\n  <tbody>\n    <tr>\n      <th>0</th>\n      <td>2016-01-01 00:00:00</td>\n      <td>A.COM</td>\n      <td>eolien</td>\n      <td>47.5</td>\n      <td>104.7</td>\n      <td>0.453677</td>\n    </tr>\n    <tr>\n      <th>1</th>\n      <td>2016-01-01 00:00:00</td>\n      <td>CXSSE</td>\n      <td>eolien</td>\n      <td>24.2</td>\n      <td>85.8</td>\n      <td>0.282051</td>\n    </tr>\n    <tr>\n      <th>2</th>\n      <td>2016-01-01 00:00:00</td>\n      <td>HOSTE</td>\n      <td>pv</td>\n      <td>0.0</td>\n      <td>54.0</td>\n      <td>0.000000</td>\n    </tr>\n    <tr>\n      <th>3</th>\n      <td>2016-01-01 00:00:00</td>\n      <td>national</td>\n      <td>pv</td>\n      <td>0.0</td>\n      <td>6006.0</td>\n      <td>0.000000</td>\n    </tr>\n    <tr>\n      <th>4</th>\n      <td>2016-01-01 00:00:00</td>\n      <td>national</td>\n      <td>eolien</td>\n      <td>2199.0</td>\n      <td>10201.0</td>\n      <td>0.215567</td>\n    </tr>\n    <tr>\n      <th>...</th>\n      <td>...</td>\n      <td>...</td>\n      <td>...</td>\n      <td>...</td>\n      <td>...</td>\n      <td>...</td>\n    </tr>\n    <tr>\n      <th>420657</th>\n      <td>2019-12-31 23:00:00</td>\n      <td>ONDES</td>\n      <td>pv</td>\n      <td>NaN</td>\n      <td>26.8</td>\n      <td>NaN</td>\n    </tr>\n    <tr>\n      <th>420658</th>\n      <td>2019-12-31 23:30:00</td>\n      <td>HOSTE</td>\n      <td>pv</td>\n      <td>NaN</td>\n      <td>54.0</td>\n      <td>NaN</td>\n    </tr>\n    <tr>\n      <th>420659</th>\n      <td>2019-12-31 23:30:00</td>\n      <td>national</td>\n      <td>pv</td>\n      <td>NaN</td>\n      <td>9258.0</td>\n      <td>NaN</td>\n    </tr>\n    <tr>\n      <th>420660</th>\n      <td>2019-12-31 23:30:00</td>\n      <td>national</td>\n      <td>eolien</td>\n      <td>NaN</td>\n      <td>16035.0</td>\n      <td>NaN</td>\n    </tr>\n    <tr>\n      <th>420661</th>\n      <td>2019-12-31 23:30:00</td>\n      <td>ONDES</td>\n      <td>pv</td>\n      <td>NaN</td>\n      <td>26.8</td>\n      <td>NaN</td>\n    </tr>\n  </tbody>\n</table>\n<p>420662 rows × 6 columns</p>\n</div>"
     },
     "execution_count": 91,
     "metadata": {},
     "output_type": "execute_result"
    }
   ],
   "source": [
    "prod = pyreadr.read_r('prod.RDS')[None]\n",
    "prod"
   ]
  },
  {
   "cell_type": "markdown",
   "metadata": {
    "pycharm": {
     "name": "#%% md\n"
    }
   },
   "source": [
    "## Météo"
   ]
  },
  {
   "cell_type": "code",
   "execution_count": 92,
   "metadata": {
    "pycharm": {
     "name": "#%%\n"
    }
   },
   "outputs": [
    {
     "data": {
      "text/plain": "       date_lancement zone          date_cible      u100      v100     ff100  \\\n0 2016-01-01 12:00:00  SEO 2016-01-01 12:00:00 -5.177443  6.064677  8.121044   \n1 2016-01-01 12:00:00  SEO 2016-01-01 12:30:00 -5.469025  6.075288  8.323454   \n2 2016-01-01 12:00:00  SEO 2016-01-01 13:00:00 -5.827872  6.013414  8.541550   \n3 2016-01-01 12:00:00  SEO 2016-01-01 13:30:00 -6.272080  5.900551  8.814541   \n4 2016-01-01 12:00:00  SEO 2016-01-01 14:00:00 -6.623078  6.134103  9.275718   \n\n        neb       t2m        ssrd  echeance  \n0  0.939656  8.877014  185.685528       0.0  \n1  0.886481  9.188167  194.134987       0.5  \n2  0.831598  9.479097  200.354708       1.0  \n3  0.780358  9.727099  193.196003       1.5  \n4  0.766335  9.899554  163.905746       2.0  ",
      "text/html": "<div>\n<style scoped>\n    .dataframe tbody tr th:only-of-type {\n        vertical-align: middle;\n    }\n\n    .dataframe tbody tr th {\n        vertical-align: top;\n    }\n\n    .dataframe thead th {\n        text-align: right;\n    }\n</style>\n<table border=\"1\" class=\"dataframe\">\n  <thead>\n    <tr style=\"text-align: right;\">\n      <th></th>\n      <th>date_lancement</th>\n      <th>zone</th>\n      <th>date_cible</th>\n      <th>u100</th>\n      <th>v100</th>\n      <th>ff100</th>\n      <th>neb</th>\n      <th>t2m</th>\n      <th>ssrd</th>\n      <th>echeance</th>\n    </tr>\n  </thead>\n  <tbody>\n    <tr>\n      <th>0</th>\n      <td>2016-01-01 12:00:00</td>\n      <td>SEO</td>\n      <td>2016-01-01 12:00:00</td>\n      <td>-5.177443</td>\n      <td>6.064677</td>\n      <td>8.121044</td>\n      <td>0.939656</td>\n      <td>8.877014</td>\n      <td>185.685528</td>\n      <td>0.0</td>\n    </tr>\n    <tr>\n      <th>1</th>\n      <td>2016-01-01 12:00:00</td>\n      <td>SEO</td>\n      <td>2016-01-01 12:30:00</td>\n      <td>-5.469025</td>\n      <td>6.075288</td>\n      <td>8.323454</td>\n      <td>0.886481</td>\n      <td>9.188167</td>\n      <td>194.134987</td>\n      <td>0.5</td>\n    </tr>\n    <tr>\n      <th>2</th>\n      <td>2016-01-01 12:00:00</td>\n      <td>SEO</td>\n      <td>2016-01-01 13:00:00</td>\n      <td>-5.827872</td>\n      <td>6.013414</td>\n      <td>8.541550</td>\n      <td>0.831598</td>\n      <td>9.479097</td>\n      <td>200.354708</td>\n      <td>1.0</td>\n    </tr>\n    <tr>\n      <th>3</th>\n      <td>2016-01-01 12:00:00</td>\n      <td>SEO</td>\n      <td>2016-01-01 13:30:00</td>\n      <td>-6.272080</td>\n      <td>5.900551</td>\n      <td>8.814541</td>\n      <td>0.780358</td>\n      <td>9.727099</td>\n      <td>193.196003</td>\n      <td>1.5</td>\n    </tr>\n    <tr>\n      <th>4</th>\n      <td>2016-01-01 12:00:00</td>\n      <td>SEO</td>\n      <td>2016-01-01 14:00:00</td>\n      <td>-6.623078</td>\n      <td>6.134103</td>\n      <td>9.275718</td>\n      <td>0.766335</td>\n      <td>9.899554</td>\n      <td>163.905746</td>\n      <td>2.0</td>\n    </tr>\n  </tbody>\n</table>\n</div>"
     },
     "execution_count": 92,
     "metadata": {},
     "output_type": "execute_result"
    }
   ],
   "source": [
    "meteo_ce_ecmwf = pyreadr.read_r('meteo_ce_allvar_grille_ecmwf.RDS')[None]\n",
    "meteo_ce_ecmwf.head()"
   ]
  },
  {
   "cell_type": "code",
   "execution_count": 93,
   "outputs": [
    {
     "name": "stderr",
     "output_type": "stream",
     "text": [
      "/home/rozierale/.miniconda3/envs/origami/lib/python3.7/site-packages/pandas/core/frame.py:5042: SettingWithCopyWarning: \n",
      "A value is trying to be set on a copy of a slice from a DataFrame\n",
      "\n",
      "See the caveats in the documentation: https://pandas.pydata.org/pandas-docs/stable/user_guide/indexing.html#returning-a-view-versus-a-copy\n",
      "  errors=errors,\n",
      "/home/rozierale/.miniconda3/envs/origami/lib/python3.7/site-packages/pandas/core/generic.py:5507: SettingWithCopyWarning: \n",
      "A value is trying to be set on a copy of a slice from a DataFrame.\n",
      "Try using .loc[row_indexer,col_indexer] = value instead\n",
      "\n",
      "See the caveats in the documentation: https://pandas.pydata.org/pandas-docs/stable/user_guide/indexing.html#returning-a-view-versus-a-copy\n",
      "  self[name] = value\n"
     ]
    },
    {
     "data": {
      "text/plain": "       date_lancement perimetre_prod          date_cible      u100      v100  \\\n0 2016-01-01 12:00:00       national 2016-01-01 12:00:00 -5.177443  6.064677   \n1 2016-01-01 12:00:00       national 2016-01-01 12:30:00 -5.469025  6.075288   \n2 2016-01-01 12:00:00       national 2016-01-01 13:00:00 -5.827872  6.013414   \n3 2016-01-01 12:00:00       national 2016-01-01 13:30:00 -6.272080  5.900551   \n4 2016-01-01 12:00:00       national 2016-01-01 14:00:00 -6.623078  6.134103   \n\n      ff100       neb       t2m        ssrd  echeance  \n0  8.121044  0.939656  8.877014  185.685528       0.0  \n1  8.323454  0.886481  9.188167  194.134987       0.5  \n2  8.541550  0.831598  9.479097  200.354708       1.0  \n3  8.814541  0.780358  9.727099  193.196003       1.5  \n4  9.275718  0.766335  9.899554  163.905746       2.0  ",
      "text/html": "<div>\n<style scoped>\n    .dataframe tbody tr th:only-of-type {\n        vertical-align: middle;\n    }\n\n    .dataframe tbody tr th {\n        vertical-align: top;\n    }\n\n    .dataframe thead th {\n        text-align: right;\n    }\n</style>\n<table border=\"1\" class=\"dataframe\">\n  <thead>\n    <tr style=\"text-align: right;\">\n      <th></th>\n      <th>date_lancement</th>\n      <th>perimetre_prod</th>\n      <th>date_cible</th>\n      <th>u100</th>\n      <th>v100</th>\n      <th>ff100</th>\n      <th>neb</th>\n      <th>t2m</th>\n      <th>ssrd</th>\n      <th>echeance</th>\n    </tr>\n  </thead>\n  <tbody>\n    <tr>\n      <th>0</th>\n      <td>2016-01-01 12:00:00</td>\n      <td>national</td>\n      <td>2016-01-01 12:00:00</td>\n      <td>-5.177443</td>\n      <td>6.064677</td>\n      <td>8.121044</td>\n      <td>0.939656</td>\n      <td>8.877014</td>\n      <td>185.685528</td>\n      <td>0.0</td>\n    </tr>\n    <tr>\n      <th>1</th>\n      <td>2016-01-01 12:00:00</td>\n      <td>national</td>\n      <td>2016-01-01 12:30:00</td>\n      <td>-5.469025</td>\n      <td>6.075288</td>\n      <td>8.323454</td>\n      <td>0.886481</td>\n      <td>9.188167</td>\n      <td>194.134987</td>\n      <td>0.5</td>\n    </tr>\n    <tr>\n      <th>2</th>\n      <td>2016-01-01 12:00:00</td>\n      <td>national</td>\n      <td>2016-01-01 13:00:00</td>\n      <td>-5.827872</td>\n      <td>6.013414</td>\n      <td>8.541550</td>\n      <td>0.831598</td>\n      <td>9.479097</td>\n      <td>200.354708</td>\n      <td>1.0</td>\n    </tr>\n    <tr>\n      <th>3</th>\n      <td>2016-01-01 12:00:00</td>\n      <td>national</td>\n      <td>2016-01-01 13:30:00</td>\n      <td>-6.272080</td>\n      <td>5.900551</td>\n      <td>8.814541</td>\n      <td>0.780358</td>\n      <td>9.727099</td>\n      <td>193.196003</td>\n      <td>1.5</td>\n    </tr>\n    <tr>\n      <th>4</th>\n      <td>2016-01-01 12:00:00</td>\n      <td>national</td>\n      <td>2016-01-01 14:00:00</td>\n      <td>-6.623078</td>\n      <td>6.134103</td>\n      <td>9.275718</td>\n      <td>0.766335</td>\n      <td>9.899554</td>\n      <td>163.905746</td>\n      <td>2.0</td>\n    </tr>\n  </tbody>\n</table>\n</div>"
     },
     "execution_count": 93,
     "metadata": {},
     "output_type": "execute_result"
    }
   ],
   "source": [
    "meteo_nationale_ecmwf = meteo_ce_ecmwf[meteo_ce_ecmwf.zone==\"SEO\"] #TODO FIXME !!!\n",
    "meteo_nationale_ecmwf.rename(columns={'zone':'perimetre_prod'},inplace=True)\n",
    "meteo_nationale_ecmwf.perimetre_prod = 'national'\n",
    "meteo_nationale_ecmwf.head()"
   ],
   "metadata": {
    "collapsed": false,
    "pycharm": {
     "name": "#%%\n"
    }
   }
  },
  {
   "cell_type": "code",
   "execution_count": 94,
   "metadata": {
    "pycharm": {
     "name": "#%%\n"
    }
   },
   "outputs": [
    {
     "data": {
      "text/plain": "       date_lancement    zone          date_cible       t2m       neb  \\\n0 2015-12-29 12:00:00  France 2016-01-01 00:00:00  5.885630  4.426500   \n1 2015-12-29 12:00:00  France 2016-01-01 00:30:00  5.760679  4.400543   \n2 2015-12-29 12:00:00  France 2016-01-01 01:00:00  5.646430  4.404500   \n3 2015-12-29 12:00:00  France 2016-01-01 01:30:00  5.542821  4.404271   \n4 2015-12-29 12:00:00  France 2016-01-01 02:00:00  5.443720  4.398000   \n\n   echeance  \n0      60.0  \n1      60.5  \n2      61.0  \n3      61.5  \n4      62.0  ",
      "text/html": "<div>\n<style scoped>\n    .dataframe tbody tr th:only-of-type {\n        vertical-align: middle;\n    }\n\n    .dataframe tbody tr th {\n        vertical-align: top;\n    }\n\n    .dataframe thead th {\n        text-align: right;\n    }\n</style>\n<table border=\"1\" class=\"dataframe\">\n  <thead>\n    <tr style=\"text-align: right;\">\n      <th></th>\n      <th>date_lancement</th>\n      <th>zone</th>\n      <th>date_cible</th>\n      <th>t2m</th>\n      <th>neb</th>\n      <th>echeance</th>\n    </tr>\n  </thead>\n  <tbody>\n    <tr>\n      <th>0</th>\n      <td>2015-12-29 12:00:00</td>\n      <td>France</td>\n      <td>2016-01-01 00:00:00</td>\n      <td>5.885630</td>\n      <td>4.426500</td>\n      <td>60.0</td>\n    </tr>\n    <tr>\n      <th>1</th>\n      <td>2015-12-29 12:00:00</td>\n      <td>France</td>\n      <td>2016-01-01 00:30:00</td>\n      <td>5.760679</td>\n      <td>4.400543</td>\n      <td>60.5</td>\n    </tr>\n    <tr>\n      <th>2</th>\n      <td>2015-12-29 12:00:00</td>\n      <td>France</td>\n      <td>2016-01-01 01:00:00</td>\n      <td>5.646430</td>\n      <td>4.404500</td>\n      <td>61.0</td>\n    </tr>\n    <tr>\n      <th>3</th>\n      <td>2015-12-29 12:00:00</td>\n      <td>France</td>\n      <td>2016-01-01 01:30:00</td>\n      <td>5.542821</td>\n      <td>4.404271</td>\n      <td>61.5</td>\n    </tr>\n    <tr>\n      <th>4</th>\n      <td>2015-12-29 12:00:00</td>\n      <td>France</td>\n      <td>2016-01-01 02:00:00</td>\n      <td>5.443720</td>\n      <td>4.398000</td>\n      <td>62.0</td>\n    </tr>\n  </tbody>\n</table>\n</div>"
     },
     "execution_count": 94,
     "metadata": {},
     "output_type": "execute_result"
    }
   ],
   "source": [
    "meteo_ce_nebtemp_mf = pyreadr.read_r('meteo_ce_nebtemp_station_meteofrance.RDS')[None]\n",
    "meteo_ce_nebtemp_mf.head()"
   ]
  },
  {
   "cell_type": "code",
   "execution_count": 95,
   "metadata": {
    "pycharm": {
     "name": "#%%\n"
    }
   },
   "outputs": [
    {
     "data": {
      "text/plain": "       date_lancement    zone date_cible      u100       v100      ff100  \\\n0 2015-12-29 12:00:00  France 2016-01-01  2.325891   5.899836   7.304124   \n1 2015-12-29 12:00:00     SEE 2016-01-01  3.143937   4.076005   5.298578   \n2 2015-12-29 12:00:00    SENE 2016-01-01  2.406227   8.448678   8.849158   \n3 2015-12-29 12:00:00    SENP 2016-01-01  3.430701  10.169736  10.791216   \n4 2015-12-29 12:00:00     SEO 2016-01-01  2.398538   7.153337   7.911717   \n\n   echeance  \n0      60.0  \n1      60.0  \n2      60.0  \n3      60.0  \n4      60.0  ",
      "text/html": "<div>\n<style scoped>\n    .dataframe tbody tr th:only-of-type {\n        vertical-align: middle;\n    }\n\n    .dataframe tbody tr th {\n        vertical-align: top;\n    }\n\n    .dataframe thead th {\n        text-align: right;\n    }\n</style>\n<table border=\"1\" class=\"dataframe\">\n  <thead>\n    <tr style=\"text-align: right;\">\n      <th></th>\n      <th>date_lancement</th>\n      <th>zone</th>\n      <th>date_cible</th>\n      <th>u100</th>\n      <th>v100</th>\n      <th>ff100</th>\n      <th>echeance</th>\n    </tr>\n  </thead>\n  <tbody>\n    <tr>\n      <th>0</th>\n      <td>2015-12-29 12:00:00</td>\n      <td>France</td>\n      <td>2016-01-01</td>\n      <td>2.325891</td>\n      <td>5.899836</td>\n      <td>7.304124</td>\n      <td>60.0</td>\n    </tr>\n    <tr>\n      <th>1</th>\n      <td>2015-12-29 12:00:00</td>\n      <td>SEE</td>\n      <td>2016-01-01</td>\n      <td>3.143937</td>\n      <td>4.076005</td>\n      <td>5.298578</td>\n      <td>60.0</td>\n    </tr>\n    <tr>\n      <th>2</th>\n      <td>2015-12-29 12:00:00</td>\n      <td>SENE</td>\n      <td>2016-01-01</td>\n      <td>2.406227</td>\n      <td>8.448678</td>\n      <td>8.849158</td>\n      <td>60.0</td>\n    </tr>\n    <tr>\n      <th>3</th>\n      <td>2015-12-29 12:00:00</td>\n      <td>SENP</td>\n      <td>2016-01-01</td>\n      <td>3.430701</td>\n      <td>10.169736</td>\n      <td>10.791216</td>\n      <td>60.0</td>\n    </tr>\n    <tr>\n      <th>4</th>\n      <td>2015-12-29 12:00:00</td>\n      <td>SEO</td>\n      <td>2016-01-01</td>\n      <td>2.398538</td>\n      <td>7.153337</td>\n      <td>7.911717</td>\n      <td>60.0</td>\n    </tr>\n  </tbody>\n</table>\n</div>"
     },
     "execution_count": 95,
     "metadata": {},
     "output_type": "execute_result"
    }
   ],
   "source": [
    "meteo_ce_vent_mf = pyreadr.read_r('meteo_ce_vent_grille_meteofrance.RDS')[None]\n",
    "meteo_ce_vent_mf.head()"
   ]
  },
  {
   "cell_type": "code",
   "execution_count": 96,
   "metadata": {
    "pycharm": {
     "name": "#%%\n"
    }
   },
   "outputs": [
    {
     "data": {
      "text/plain": "       date_lancement perimetre_prod          date_cible       tcc       t2m  \\\n0 2016-01-01 12:00:00          A.COM 2016-01-01 12:00:00  1.000000  5.433659   \n1 2016-01-01 12:00:00          A.COM 2016-01-01 12:30:00  1.000000  5.761281   \n2 2016-01-01 12:00:00          A.COM 2016-01-01 13:00:00  1.000000  6.026459   \n3 2016-01-01 12:00:00          A.COM 2016-01-01 13:30:00  1.000001  6.188425   \n4 2016-01-01 12:00:00          A.COM 2016-01-01 14:00:00  1.000001  6.293115   \n\n         ssrd      u100      v100     ff100  echeance  \n0   74.616463 -5.155345  4.644291  6.943392       0.0  \n1  110.394319 -5.664127  5.249110  7.722563       0.5  \n2   84.842507 -5.938574  5.744662  8.262706       1.0  \n3   40.860147 -5.851014  6.026186  8.401581       1.5  \n4   23.576228 -5.700430  6.006944  8.284104       2.0  ",
      "text/html": "<div>\n<style scoped>\n    .dataframe tbody tr th:only-of-type {\n        vertical-align: middle;\n    }\n\n    .dataframe tbody tr th {\n        vertical-align: top;\n    }\n\n    .dataframe thead th {\n        text-align: right;\n    }\n</style>\n<table border=\"1\" class=\"dataframe\">\n  <thead>\n    <tr style=\"text-align: right;\">\n      <th></th>\n      <th>date_lancement</th>\n      <th>perimetre_prod</th>\n      <th>date_cible</th>\n      <th>tcc</th>\n      <th>t2m</th>\n      <th>ssrd</th>\n      <th>u100</th>\n      <th>v100</th>\n      <th>ff100</th>\n      <th>echeance</th>\n    </tr>\n  </thead>\n  <tbody>\n    <tr>\n      <th>0</th>\n      <td>2016-01-01 12:00:00</td>\n      <td>A.COM</td>\n      <td>2016-01-01 12:00:00</td>\n      <td>1.000000</td>\n      <td>5.433659</td>\n      <td>74.616463</td>\n      <td>-5.155345</td>\n      <td>4.644291</td>\n      <td>6.943392</td>\n      <td>0.0</td>\n    </tr>\n    <tr>\n      <th>1</th>\n      <td>2016-01-01 12:00:00</td>\n      <td>A.COM</td>\n      <td>2016-01-01 12:30:00</td>\n      <td>1.000000</td>\n      <td>5.761281</td>\n      <td>110.394319</td>\n      <td>-5.664127</td>\n      <td>5.249110</td>\n      <td>7.722563</td>\n      <td>0.5</td>\n    </tr>\n    <tr>\n      <th>2</th>\n      <td>2016-01-01 12:00:00</td>\n      <td>A.COM</td>\n      <td>2016-01-01 13:00:00</td>\n      <td>1.000000</td>\n      <td>6.026459</td>\n      <td>84.842507</td>\n      <td>-5.938574</td>\n      <td>5.744662</td>\n      <td>8.262706</td>\n      <td>1.0</td>\n    </tr>\n    <tr>\n      <th>3</th>\n      <td>2016-01-01 12:00:00</td>\n      <td>A.COM</td>\n      <td>2016-01-01 13:30:00</td>\n      <td>1.000001</td>\n      <td>6.188425</td>\n      <td>40.860147</td>\n      <td>-5.851014</td>\n      <td>6.026186</td>\n      <td>8.401581</td>\n      <td>1.5</td>\n    </tr>\n    <tr>\n      <th>4</th>\n      <td>2016-01-01 12:00:00</td>\n      <td>A.COM</td>\n      <td>2016-01-01 14:00:00</td>\n      <td>1.000001</td>\n      <td>6.293115</td>\n      <td>23.576228</td>\n      <td>-5.700430</td>\n      <td>6.006944</td>\n      <td>8.284104</td>\n      <td>2.0</td>\n    </tr>\n  </tbody>\n</table>\n</div>"
     },
     "execution_count": 96,
     "metadata": {},
     "output_type": "execute_result"
    }
   ],
   "source": [
    "meteo_locale_ecmwf = pyreadr.read_r('meteo_locale_allvar_grille_ecmwf.RDS')[None]\n",
    "meteo_locale_ecmwf.head()"
   ]
  },
  {
   "cell_type": "code",
   "execution_count": 97,
   "metadata": {
    "pycharm": {
     "name": "#%%\n"
    }
   },
   "outputs": [
    {
     "data": {
      "text/plain": "       date_lancement perimetre_prod          date_cible      u100       v100  \\\n0 2015-12-29 12:00:00          A.COM 2016-01-01 00:00:00  3.101111  10.747778   \n1 2015-12-30 12:00:00          A.COM 2016-01-01 00:00:00  5.330000  10.257778   \n2 2015-12-30 12:00:00          A.COM 2016-01-01 00:30:00  5.793723   9.453217   \n3 2015-12-30 12:00:00          A.COM 2016-01-01 01:00:00  6.132471   8.487282   \n4 2015-12-30 12:00:00          A.COM 2016-01-01 01:30:00  6.352303   7.430982   \n\n       ff100  echeance  \n0  11.191169      60.0  \n1  11.562233      36.0  \n2  11.143628      36.5  \n3  10.590947      37.0  \n4   9.940086      37.5  ",
      "text/html": "<div>\n<style scoped>\n    .dataframe tbody tr th:only-of-type {\n        vertical-align: middle;\n    }\n\n    .dataframe tbody tr th {\n        vertical-align: top;\n    }\n\n    .dataframe thead th {\n        text-align: right;\n    }\n</style>\n<table border=\"1\" class=\"dataframe\">\n  <thead>\n    <tr style=\"text-align: right;\">\n      <th></th>\n      <th>date_lancement</th>\n      <th>perimetre_prod</th>\n      <th>date_cible</th>\n      <th>u100</th>\n      <th>v100</th>\n      <th>ff100</th>\n      <th>echeance</th>\n    </tr>\n  </thead>\n  <tbody>\n    <tr>\n      <th>0</th>\n      <td>2015-12-29 12:00:00</td>\n      <td>A.COM</td>\n      <td>2016-01-01 00:00:00</td>\n      <td>3.101111</td>\n      <td>10.747778</td>\n      <td>11.191169</td>\n      <td>60.0</td>\n    </tr>\n    <tr>\n      <th>1</th>\n      <td>2015-12-30 12:00:00</td>\n      <td>A.COM</td>\n      <td>2016-01-01 00:00:00</td>\n      <td>5.330000</td>\n      <td>10.257778</td>\n      <td>11.562233</td>\n      <td>36.0</td>\n    </tr>\n    <tr>\n      <th>2</th>\n      <td>2015-12-30 12:00:00</td>\n      <td>A.COM</td>\n      <td>2016-01-01 00:30:00</td>\n      <td>5.793723</td>\n      <td>9.453217</td>\n      <td>11.143628</td>\n      <td>36.5</td>\n    </tr>\n    <tr>\n      <th>3</th>\n      <td>2015-12-30 12:00:00</td>\n      <td>A.COM</td>\n      <td>2016-01-01 01:00:00</td>\n      <td>6.132471</td>\n      <td>8.487282</td>\n      <td>10.590947</td>\n      <td>37.0</td>\n    </tr>\n    <tr>\n      <th>4</th>\n      <td>2015-12-30 12:00:00</td>\n      <td>A.COM</td>\n      <td>2016-01-01 01:30:00</td>\n      <td>6.352303</td>\n      <td>7.430982</td>\n      <td>9.940086</td>\n      <td>37.5</td>\n    </tr>\n  </tbody>\n</table>\n</div>"
     },
     "execution_count": 97,
     "metadata": {},
     "output_type": "execute_result"
    }
   ],
   "source": [
    "meteo_locale_vent_mf = pyreadr.read_r('meteo_locale_vent_grille_meteofrance.RDS')[None]\n",
    "meteo_locale_vent_mf.head()"
   ]
  },
  {
   "cell_type": "markdown",
   "metadata": {
    "pycharm": {
     "name": "#%%\n"
    }
   },
   "source": [
    "## Jointure prod + meteo"
   ]
  },
  {
   "cell_type": "code",
   "execution_count": 98,
   "outputs": [
    {
     "data": {
      "text/plain": "            date_lancement perimetre_prod          date_cible      u100  \\\n24     2016-01-01 12:00:00       national 2016-01-02 00:00:00  5.090201   \n25     2016-01-01 12:00:00       national 2016-01-02 00:30:00  5.744563   \n26     2016-01-01 12:00:00       national 2016-01-02 01:00:00  6.332025   \n27     2016-01-01 12:00:00       national 2016-01-02 01:30:00  6.799050   \n28     2016-01-01 12:00:00       national 2016-01-02 02:00:00  7.192248   \n...                    ...            ...                 ...       ...   \n846403 2019-12-30 12:00:00          ONDES 2019-12-31 21:30:00  2.682430   \n846404 2019-12-30 12:00:00          ONDES 2019-12-31 22:00:00  2.946498   \n846405 2019-12-30 12:00:00          ONDES 2019-12-31 22:30:00  3.167307   \n846406 2019-12-30 12:00:00          ONDES 2019-12-31 23:00:00  3.357581   \n846407 2019-12-30 12:00:00          ONDES 2019-12-31 23:30:00  3.534088   \n\n             v100      ff100       neb        t2m          ssrd  echeance  \\\n24      11.107833  12.586564  0.738982  10.223554  7.579537e-05      12.0   \n25      11.009990  12.766400  0.711113  10.179822  1.905824e-19      12.5   \n26      10.756720  12.839232  0.670307  10.132119 -6.648113e-04      13.0   \n27      10.373602  12.779465  0.616743  10.072019  1.905824e-19      13.5   \n28       9.944114  12.658765  0.565732   9.992211  2.583450e-03      14.0   \n...           ...        ...       ...        ...           ...       ...   \n846403  -0.612226   2.774608       NaN   5.987815  0.000000e+00      33.5   \n846404  -0.379447   3.007768       NaN   5.711979  8.224577e-03      34.0   \n846405  -0.073829   3.218369       NaN   5.737721  0.000000e+00      34.5   \n846406   0.190312   3.400280       NaN   5.867768 -2.223821e-03      35.0   \n846407   0.291009   3.565589       NaN   5.860243  0.000000e+00      35.5   \n\n             tcc  \n24           NaN  \n25           NaN  \n26           NaN  \n27           NaN  \n28           NaN  \n...          ...  \n846403  0.589047  \n846404  0.623447  \n846405  0.679307  \n846406  0.730482  \n846407  0.757037  \n\n[882810 rows x 11 columns]",
      "text/html": "<div>\n<style scoped>\n    .dataframe tbody tr th:only-of-type {\n        vertical-align: middle;\n    }\n\n    .dataframe tbody tr th {\n        vertical-align: top;\n    }\n\n    .dataframe thead th {\n        text-align: right;\n    }\n</style>\n<table border=\"1\" class=\"dataframe\">\n  <thead>\n    <tr style=\"text-align: right;\">\n      <th></th>\n      <th>date_lancement</th>\n      <th>perimetre_prod</th>\n      <th>date_cible</th>\n      <th>u100</th>\n      <th>v100</th>\n      <th>ff100</th>\n      <th>neb</th>\n      <th>t2m</th>\n      <th>ssrd</th>\n      <th>echeance</th>\n      <th>tcc</th>\n    </tr>\n  </thead>\n  <tbody>\n    <tr>\n      <th>24</th>\n      <td>2016-01-01 12:00:00</td>\n      <td>national</td>\n      <td>2016-01-02 00:00:00</td>\n      <td>5.090201</td>\n      <td>11.107833</td>\n      <td>12.586564</td>\n      <td>0.738982</td>\n      <td>10.223554</td>\n      <td>7.579537e-05</td>\n      <td>12.0</td>\n      <td>NaN</td>\n    </tr>\n    <tr>\n      <th>25</th>\n      <td>2016-01-01 12:00:00</td>\n      <td>national</td>\n      <td>2016-01-02 00:30:00</td>\n      <td>5.744563</td>\n      <td>11.009990</td>\n      <td>12.766400</td>\n      <td>0.711113</td>\n      <td>10.179822</td>\n      <td>1.905824e-19</td>\n      <td>12.5</td>\n      <td>NaN</td>\n    </tr>\n    <tr>\n      <th>26</th>\n      <td>2016-01-01 12:00:00</td>\n      <td>national</td>\n      <td>2016-01-02 01:00:00</td>\n      <td>6.332025</td>\n      <td>10.756720</td>\n      <td>12.839232</td>\n      <td>0.670307</td>\n      <td>10.132119</td>\n      <td>-6.648113e-04</td>\n      <td>13.0</td>\n      <td>NaN</td>\n    </tr>\n    <tr>\n      <th>27</th>\n      <td>2016-01-01 12:00:00</td>\n      <td>national</td>\n      <td>2016-01-02 01:30:00</td>\n      <td>6.799050</td>\n      <td>10.373602</td>\n      <td>12.779465</td>\n      <td>0.616743</td>\n      <td>10.072019</td>\n      <td>1.905824e-19</td>\n      <td>13.5</td>\n      <td>NaN</td>\n    </tr>\n    <tr>\n      <th>28</th>\n      <td>2016-01-01 12:00:00</td>\n      <td>national</td>\n      <td>2016-01-02 02:00:00</td>\n      <td>7.192248</td>\n      <td>9.944114</td>\n      <td>12.658765</td>\n      <td>0.565732</td>\n      <td>9.992211</td>\n      <td>2.583450e-03</td>\n      <td>14.0</td>\n      <td>NaN</td>\n    </tr>\n    <tr>\n      <th>...</th>\n      <td>...</td>\n      <td>...</td>\n      <td>...</td>\n      <td>...</td>\n      <td>...</td>\n      <td>...</td>\n      <td>...</td>\n      <td>...</td>\n      <td>...</td>\n      <td>...</td>\n      <td>...</td>\n    </tr>\n    <tr>\n      <th>846403</th>\n      <td>2019-12-30 12:00:00</td>\n      <td>ONDES</td>\n      <td>2019-12-31 21:30:00</td>\n      <td>2.682430</td>\n      <td>-0.612226</td>\n      <td>2.774608</td>\n      <td>NaN</td>\n      <td>5.987815</td>\n      <td>0.000000e+00</td>\n      <td>33.5</td>\n      <td>0.589047</td>\n    </tr>\n    <tr>\n      <th>846404</th>\n      <td>2019-12-30 12:00:00</td>\n      <td>ONDES</td>\n      <td>2019-12-31 22:00:00</td>\n      <td>2.946498</td>\n      <td>-0.379447</td>\n      <td>3.007768</td>\n      <td>NaN</td>\n      <td>5.711979</td>\n      <td>8.224577e-03</td>\n      <td>34.0</td>\n      <td>0.623447</td>\n    </tr>\n    <tr>\n      <th>846405</th>\n      <td>2019-12-30 12:00:00</td>\n      <td>ONDES</td>\n      <td>2019-12-31 22:30:00</td>\n      <td>3.167307</td>\n      <td>-0.073829</td>\n      <td>3.218369</td>\n      <td>NaN</td>\n      <td>5.737721</td>\n      <td>0.000000e+00</td>\n      <td>34.5</td>\n      <td>0.679307</td>\n    </tr>\n    <tr>\n      <th>846406</th>\n      <td>2019-12-30 12:00:00</td>\n      <td>ONDES</td>\n      <td>2019-12-31 23:00:00</td>\n      <td>3.357581</td>\n      <td>0.190312</td>\n      <td>3.400280</td>\n      <td>NaN</td>\n      <td>5.867768</td>\n      <td>-2.223821e-03</td>\n      <td>35.0</td>\n      <td>0.730482</td>\n    </tr>\n    <tr>\n      <th>846407</th>\n      <td>2019-12-30 12:00:00</td>\n      <td>ONDES</td>\n      <td>2019-12-31 23:30:00</td>\n      <td>3.534088</td>\n      <td>0.291009</td>\n      <td>3.565589</td>\n      <td>NaN</td>\n      <td>5.860243</td>\n      <td>0.000000e+00</td>\n      <td>35.5</td>\n      <td>0.757037</td>\n    </tr>\n  </tbody>\n</table>\n<p>882810 rows × 11 columns</p>\n</div>"
     },
     "execution_count": 98,
     "metadata": {},
     "output_type": "execute_result"
    }
   ],
   "source": [
    "def keep_valid_forecasts(row):\n",
    "    veille = (row.date_cible - timedelta(days=1))\n",
    "    earliest_valid_lancement = veille.replace(hour=16)\n",
    "    return row.date_lancement < earliest_valid_lancement\n",
    "meteo_df = pd.concat([meteo_nationale_ecmwf, meteo_locale_ecmwf],axis=0)\n",
    "train_meteo_df = meteo_df[meteo_df.apply(keep_valid_forecasts, axis=1)]\n",
    "train_meteo_df"
   ],
   "metadata": {
    "collapsed": false,
    "pycharm": {
     "name": "#%%\n"
    }
   }
  },
  {
   "cell_type": "code",
   "execution_count": 99,
   "outputs": [
    {
     "data": {
      "text/plain": "       perimetre_prod          date_cible      date_lancement      u100  \\\n0               A.COM 2016-01-02 00:00:00 2016-01-01 12:00:00 -5.435037   \n1               A.COM 2016-01-02 00:30:00 2016-01-01 12:00:00 -5.078984   \n2               A.COM 2016-01-02 01:00:00 2016-01-01 12:00:00 -4.810986   \n3               A.COM 2016-01-02 01:30:00 2016-01-01 12:00:00 -4.448654   \n4               A.COM 2016-01-02 02:00:00 2016-01-01 12:00:00 -4.109660   \n...               ...                 ...                 ...       ...   \n350395       national 2019-12-31 21:30:00 2019-12-30 12:00:00 -0.350092   \n350396       national 2019-12-31 22:00:00 2019-12-30 12:00:00 -0.377017   \n350397       national 2019-12-31 22:30:00 2019-12-30 12:00:00 -0.420894   \n350398       national 2019-12-31 23:00:00 2019-12-30 12:00:00 -0.442239   \n350399       national 2019-12-31 23:30:00 2019-12-30 12:00:00 -0.396945   \n\n            v100      ff100       neb       t2m          ssrd  echeance  \\\n0       9.539942  10.980536       NaN  6.325450  2.216240e-03      12.0   \n1       9.433556  10.707797       NaN  6.344030  0.000000e+00      12.5   \n2       9.301626  10.473833       NaN  6.317258 -1.425500e-03      13.0   \n3       9.288761  10.308406       NaN  6.246803 -7.623297e-19      13.5   \n4       9.396701  10.258342       NaN  6.219141  3.485759e-03      14.0   \n...          ...        ...       ...       ...           ...       ...   \n350395  4.108127   4.503309  0.821373  6.304769  0.000000e+00      33.5   \n350396  4.076441   4.620322  0.805843  6.389925  3.180431e-03      34.0   \n350397  4.051164   4.868887  0.797661  6.404927  3.049319e-18      34.5   \n350398  4.061788   5.069467  0.802324  6.404885 -8.798645e-04      35.0   \n350399  4.131412   5.056874  0.820522  6.455548  0.000000e+00      35.5   \n\n             tcc  \n0       1.000000  \n1       0.999551  \n2       1.000000  \n3       1.000689  \n4       1.000000  \n...          ...  \n350395       NaN  \n350396       NaN  \n350397       NaN  \n350398       NaN  \n350399       NaN  \n\n[350400 rows x 11 columns]",
      "text/html": "<div>\n<style scoped>\n    .dataframe tbody tr th:only-of-type {\n        vertical-align: middle;\n    }\n\n    .dataframe tbody tr th {\n        vertical-align: top;\n    }\n\n    .dataframe thead th {\n        text-align: right;\n    }\n</style>\n<table border=\"1\" class=\"dataframe\">\n  <thead>\n    <tr style=\"text-align: right;\">\n      <th></th>\n      <th>perimetre_prod</th>\n      <th>date_cible</th>\n      <th>date_lancement</th>\n      <th>u100</th>\n      <th>v100</th>\n      <th>ff100</th>\n      <th>neb</th>\n      <th>t2m</th>\n      <th>ssrd</th>\n      <th>echeance</th>\n      <th>tcc</th>\n    </tr>\n  </thead>\n  <tbody>\n    <tr>\n      <th>0</th>\n      <td>A.COM</td>\n      <td>2016-01-02 00:00:00</td>\n      <td>2016-01-01 12:00:00</td>\n      <td>-5.435037</td>\n      <td>9.539942</td>\n      <td>10.980536</td>\n      <td>NaN</td>\n      <td>6.325450</td>\n      <td>2.216240e-03</td>\n      <td>12.0</td>\n      <td>1.000000</td>\n    </tr>\n    <tr>\n      <th>1</th>\n      <td>A.COM</td>\n      <td>2016-01-02 00:30:00</td>\n      <td>2016-01-01 12:00:00</td>\n      <td>-5.078984</td>\n      <td>9.433556</td>\n      <td>10.707797</td>\n      <td>NaN</td>\n      <td>6.344030</td>\n      <td>0.000000e+00</td>\n      <td>12.5</td>\n      <td>0.999551</td>\n    </tr>\n    <tr>\n      <th>2</th>\n      <td>A.COM</td>\n      <td>2016-01-02 01:00:00</td>\n      <td>2016-01-01 12:00:00</td>\n      <td>-4.810986</td>\n      <td>9.301626</td>\n      <td>10.473833</td>\n      <td>NaN</td>\n      <td>6.317258</td>\n      <td>-1.425500e-03</td>\n      <td>13.0</td>\n      <td>1.000000</td>\n    </tr>\n    <tr>\n      <th>3</th>\n      <td>A.COM</td>\n      <td>2016-01-02 01:30:00</td>\n      <td>2016-01-01 12:00:00</td>\n      <td>-4.448654</td>\n      <td>9.288761</td>\n      <td>10.308406</td>\n      <td>NaN</td>\n      <td>6.246803</td>\n      <td>-7.623297e-19</td>\n      <td>13.5</td>\n      <td>1.000689</td>\n    </tr>\n    <tr>\n      <th>4</th>\n      <td>A.COM</td>\n      <td>2016-01-02 02:00:00</td>\n      <td>2016-01-01 12:00:00</td>\n      <td>-4.109660</td>\n      <td>9.396701</td>\n      <td>10.258342</td>\n      <td>NaN</td>\n      <td>6.219141</td>\n      <td>3.485759e-03</td>\n      <td>14.0</td>\n      <td>1.000000</td>\n    </tr>\n    <tr>\n      <th>...</th>\n      <td>...</td>\n      <td>...</td>\n      <td>...</td>\n      <td>...</td>\n      <td>...</td>\n      <td>...</td>\n      <td>...</td>\n      <td>...</td>\n      <td>...</td>\n      <td>...</td>\n      <td>...</td>\n    </tr>\n    <tr>\n      <th>350395</th>\n      <td>national</td>\n      <td>2019-12-31 21:30:00</td>\n      <td>2019-12-30 12:00:00</td>\n      <td>-0.350092</td>\n      <td>4.108127</td>\n      <td>4.503309</td>\n      <td>0.821373</td>\n      <td>6.304769</td>\n      <td>0.000000e+00</td>\n      <td>33.5</td>\n      <td>NaN</td>\n    </tr>\n    <tr>\n      <th>350396</th>\n      <td>national</td>\n      <td>2019-12-31 22:00:00</td>\n      <td>2019-12-30 12:00:00</td>\n      <td>-0.377017</td>\n      <td>4.076441</td>\n      <td>4.620322</td>\n      <td>0.805843</td>\n      <td>6.389925</td>\n      <td>3.180431e-03</td>\n      <td>34.0</td>\n      <td>NaN</td>\n    </tr>\n    <tr>\n      <th>350397</th>\n      <td>national</td>\n      <td>2019-12-31 22:30:00</td>\n      <td>2019-12-30 12:00:00</td>\n      <td>-0.420894</td>\n      <td>4.051164</td>\n      <td>4.868887</td>\n      <td>0.797661</td>\n      <td>6.404927</td>\n      <td>3.049319e-18</td>\n      <td>34.5</td>\n      <td>NaN</td>\n    </tr>\n    <tr>\n      <th>350398</th>\n      <td>national</td>\n      <td>2019-12-31 23:00:00</td>\n      <td>2019-12-30 12:00:00</td>\n      <td>-0.442239</td>\n      <td>4.061788</td>\n      <td>5.069467</td>\n      <td>0.802324</td>\n      <td>6.404885</td>\n      <td>-8.798645e-04</td>\n      <td>35.0</td>\n      <td>NaN</td>\n    </tr>\n    <tr>\n      <th>350399</th>\n      <td>national</td>\n      <td>2019-12-31 23:30:00</td>\n      <td>2019-12-30 12:00:00</td>\n      <td>-0.396945</td>\n      <td>4.131412</td>\n      <td>5.056874</td>\n      <td>0.820522</td>\n      <td>6.455548</td>\n      <td>0.000000e+00</td>\n      <td>35.5</td>\n      <td>NaN</td>\n    </tr>\n  </tbody>\n</table>\n<p>350400 rows × 11 columns</p>\n</div>"
     },
     "execution_count": 99,
     "metadata": {},
     "output_type": "execute_result"
    }
   ],
   "source": [
    "# Keep only latest date_lancement\n",
    "train_meteo_df = train_meteo_df.groupby(['perimetre_prod', 'date_cible']).last().reset_index()\n",
    "train_meteo_df"
   ],
   "metadata": {
    "collapsed": false,
    "pycharm": {
     "name": "#%%\n"
    }
   }
  },
  {
   "cell_type": "code",
   "execution_count": 100,
   "outputs": [
    {
     "data": {
      "text/plain": "                                    date_lancement  u100  v100  ff100  neb  \\\nperimetre_prod date_cible                                                    \nA.COM          2016-01-02 00:00:00               1     1     1      1    0   \n               2016-01-02 00:30:00               1     1     1      1    0   \n               2016-01-02 01:00:00               1     1     1      1    0   \n               2016-01-02 01:30:00               1     1     1      1    0   \n               2016-01-02 02:00:00               1     1     1      1    0   \n...                                            ...   ...   ...    ...  ...   \nnational       2019-12-31 21:30:00               1     1     1      1    1   \n               2019-12-31 22:00:00               1     1     1      1    1   \n               2019-12-31 22:30:00               1     1     1      1    1   \n               2019-12-31 23:00:00               1     1     1      1    1   \n               2019-12-31 23:30:00               1     1     1      1    1   \n\n                                    t2m  ssrd  echeance  tcc  \nperimetre_prod date_cible                                     \nA.COM          2016-01-02 00:00:00    1     1         1    1  \n               2016-01-02 00:30:00    1     1         1    1  \n               2016-01-02 01:00:00    1     1         1    1  \n               2016-01-02 01:30:00    1     1         1    1  \n               2016-01-02 02:00:00    1     1         1    1  \n...                                 ...   ...       ...  ...  \nnational       2019-12-31 21:30:00    1     1         1    0  \n               2019-12-31 22:00:00    1     1         1    0  \n               2019-12-31 22:30:00    1     1         1    0  \n               2019-12-31 23:00:00    1     1         1    0  \n               2019-12-31 23:30:00    1     1         1    0  \n\n[350400 rows x 9 columns]",
      "text/html": "<div>\n<style scoped>\n    .dataframe tbody tr th:only-of-type {\n        vertical-align: middle;\n    }\n\n    .dataframe tbody tr th {\n        vertical-align: top;\n    }\n\n    .dataframe thead th {\n        text-align: right;\n    }\n</style>\n<table border=\"1\" class=\"dataframe\">\n  <thead>\n    <tr style=\"text-align: right;\">\n      <th></th>\n      <th></th>\n      <th>date_lancement</th>\n      <th>u100</th>\n      <th>v100</th>\n      <th>ff100</th>\n      <th>neb</th>\n      <th>t2m</th>\n      <th>ssrd</th>\n      <th>echeance</th>\n      <th>tcc</th>\n    </tr>\n    <tr>\n      <th>perimetre_prod</th>\n      <th>date_cible</th>\n      <th></th>\n      <th></th>\n      <th></th>\n      <th></th>\n      <th></th>\n      <th></th>\n      <th></th>\n      <th></th>\n      <th></th>\n    </tr>\n  </thead>\n  <tbody>\n    <tr>\n      <th rowspan=\"5\" valign=\"top\">A.COM</th>\n      <th>2016-01-02 00:00:00</th>\n      <td>1</td>\n      <td>1</td>\n      <td>1</td>\n      <td>1</td>\n      <td>0</td>\n      <td>1</td>\n      <td>1</td>\n      <td>1</td>\n      <td>1</td>\n    </tr>\n    <tr>\n      <th>2016-01-02 00:30:00</th>\n      <td>1</td>\n      <td>1</td>\n      <td>1</td>\n      <td>1</td>\n      <td>0</td>\n      <td>1</td>\n      <td>1</td>\n      <td>1</td>\n      <td>1</td>\n    </tr>\n    <tr>\n      <th>2016-01-02 01:00:00</th>\n      <td>1</td>\n      <td>1</td>\n      <td>1</td>\n      <td>1</td>\n      <td>0</td>\n      <td>1</td>\n      <td>1</td>\n      <td>1</td>\n      <td>1</td>\n    </tr>\n    <tr>\n      <th>2016-01-02 01:30:00</th>\n      <td>1</td>\n      <td>1</td>\n      <td>1</td>\n      <td>1</td>\n      <td>0</td>\n      <td>1</td>\n      <td>1</td>\n      <td>1</td>\n      <td>1</td>\n    </tr>\n    <tr>\n      <th>2016-01-02 02:00:00</th>\n      <td>1</td>\n      <td>1</td>\n      <td>1</td>\n      <td>1</td>\n      <td>0</td>\n      <td>1</td>\n      <td>1</td>\n      <td>1</td>\n      <td>1</td>\n    </tr>\n    <tr>\n      <th>...</th>\n      <th>...</th>\n      <td>...</td>\n      <td>...</td>\n      <td>...</td>\n      <td>...</td>\n      <td>...</td>\n      <td>...</td>\n      <td>...</td>\n      <td>...</td>\n      <td>...</td>\n    </tr>\n    <tr>\n      <th rowspan=\"5\" valign=\"top\">national</th>\n      <th>2019-12-31 21:30:00</th>\n      <td>1</td>\n      <td>1</td>\n      <td>1</td>\n      <td>1</td>\n      <td>1</td>\n      <td>1</td>\n      <td>1</td>\n      <td>1</td>\n      <td>0</td>\n    </tr>\n    <tr>\n      <th>2019-12-31 22:00:00</th>\n      <td>1</td>\n      <td>1</td>\n      <td>1</td>\n      <td>1</td>\n      <td>1</td>\n      <td>1</td>\n      <td>1</td>\n      <td>1</td>\n      <td>0</td>\n    </tr>\n    <tr>\n      <th>2019-12-31 22:30:00</th>\n      <td>1</td>\n      <td>1</td>\n      <td>1</td>\n      <td>1</td>\n      <td>1</td>\n      <td>1</td>\n      <td>1</td>\n      <td>1</td>\n      <td>0</td>\n    </tr>\n    <tr>\n      <th>2019-12-31 23:00:00</th>\n      <td>1</td>\n      <td>1</td>\n      <td>1</td>\n      <td>1</td>\n      <td>1</td>\n      <td>1</td>\n      <td>1</td>\n      <td>1</td>\n      <td>0</td>\n    </tr>\n    <tr>\n      <th>2019-12-31 23:30:00</th>\n      <td>1</td>\n      <td>1</td>\n      <td>1</td>\n      <td>1</td>\n      <td>1</td>\n      <td>1</td>\n      <td>1</td>\n      <td>1</td>\n      <td>0</td>\n    </tr>\n  </tbody>\n</table>\n<p>350400 rows × 9 columns</p>\n</div>"
     },
     "execution_count": 100,
     "metadata": {},
     "output_type": "execute_result"
    }
   ],
   "source": [
    "# Check if only one date_lancement per date_cible\n",
    "train_meteo_df.groupby(['perimetre_prod', 'date_cible']).count()"
   ],
   "metadata": {
    "collapsed": false,
    "pycharm": {
     "name": "#%%\n"
    }
   }
  },
  {
   "cell_type": "code",
   "execution_count": 101,
   "outputs": [
    {
     "data": {
      "text/plain": "                date_cible perimetre_prod type_prod     comptage  \\\n0      2016-01-01 00:00:00          A.COM    eolien    47.500000   \n1      2016-01-01 00:00:00          CXSSE    eolien    24.200000   \n2      2016-01-01 00:00:00          HOSTE        pv     0.000000   \n3      2016-01-01 00:00:00       national        pv     0.000000   \n4      2016-01-01 00:00:00       national    eolien  2199.000000   \n...                    ...            ...       ...          ...   \n315631 2018-12-31 23:30:00          CXSSE    eolien     0.166667   \n315632 2018-12-31 23:30:00          HOSTE        pv     0.000000   \n315633 2018-12-31 23:30:00       national        pv     0.000000   \n315634 2018-12-31 23:30:00       national    eolien  1612.000000   \n315635 2018-12-31 23:30:00          ONDES        pv     0.000000   \n\n        puissance_installee        FC  \n0                     104.7  0.453677  \n1                      85.8  0.282051  \n2                      54.0  0.000000  \n3                    6006.0  0.000000  \n4                   10201.0  0.215567  \n...                     ...       ...  \n315631                 85.8  0.001943  \n315632                 54.0  0.000000  \n315633               8328.0  0.000000  \n315634              14500.0  0.111172  \n315635                 23.4  0.000000  \n\n[315636 rows x 6 columns]",
      "text/html": "<div>\n<style scoped>\n    .dataframe tbody tr th:only-of-type {\n        vertical-align: middle;\n    }\n\n    .dataframe tbody tr th {\n        vertical-align: top;\n    }\n\n    .dataframe thead th {\n        text-align: right;\n    }\n</style>\n<table border=\"1\" class=\"dataframe\">\n  <thead>\n    <tr style=\"text-align: right;\">\n      <th></th>\n      <th>date_cible</th>\n      <th>perimetre_prod</th>\n      <th>type_prod</th>\n      <th>comptage</th>\n      <th>puissance_installee</th>\n      <th>FC</th>\n    </tr>\n  </thead>\n  <tbody>\n    <tr>\n      <th>0</th>\n      <td>2016-01-01 00:00:00</td>\n      <td>A.COM</td>\n      <td>eolien</td>\n      <td>47.500000</td>\n      <td>104.7</td>\n      <td>0.453677</td>\n    </tr>\n    <tr>\n      <th>1</th>\n      <td>2016-01-01 00:00:00</td>\n      <td>CXSSE</td>\n      <td>eolien</td>\n      <td>24.200000</td>\n      <td>85.8</td>\n      <td>0.282051</td>\n    </tr>\n    <tr>\n      <th>2</th>\n      <td>2016-01-01 00:00:00</td>\n      <td>HOSTE</td>\n      <td>pv</td>\n      <td>0.000000</td>\n      <td>54.0</td>\n      <td>0.000000</td>\n    </tr>\n    <tr>\n      <th>3</th>\n      <td>2016-01-01 00:00:00</td>\n      <td>national</td>\n      <td>pv</td>\n      <td>0.000000</td>\n      <td>6006.0</td>\n      <td>0.000000</td>\n    </tr>\n    <tr>\n      <th>4</th>\n      <td>2016-01-01 00:00:00</td>\n      <td>national</td>\n      <td>eolien</td>\n      <td>2199.000000</td>\n      <td>10201.0</td>\n      <td>0.215567</td>\n    </tr>\n    <tr>\n      <th>...</th>\n      <td>...</td>\n      <td>...</td>\n      <td>...</td>\n      <td>...</td>\n      <td>...</td>\n      <td>...</td>\n    </tr>\n    <tr>\n      <th>315631</th>\n      <td>2018-12-31 23:30:00</td>\n      <td>CXSSE</td>\n      <td>eolien</td>\n      <td>0.166667</td>\n      <td>85.8</td>\n      <td>0.001943</td>\n    </tr>\n    <tr>\n      <th>315632</th>\n      <td>2018-12-31 23:30:00</td>\n      <td>HOSTE</td>\n      <td>pv</td>\n      <td>0.000000</td>\n      <td>54.0</td>\n      <td>0.000000</td>\n    </tr>\n    <tr>\n      <th>315633</th>\n      <td>2018-12-31 23:30:00</td>\n      <td>national</td>\n      <td>pv</td>\n      <td>0.000000</td>\n      <td>8328.0</td>\n      <td>0.000000</td>\n    </tr>\n    <tr>\n      <th>315634</th>\n      <td>2018-12-31 23:30:00</td>\n      <td>national</td>\n      <td>eolien</td>\n      <td>1612.000000</td>\n      <td>14500.0</td>\n      <td>0.111172</td>\n    </tr>\n    <tr>\n      <th>315635</th>\n      <td>2018-12-31 23:30:00</td>\n      <td>ONDES</td>\n      <td>pv</td>\n      <td>0.000000</td>\n      <td>23.4</td>\n      <td>0.000000</td>\n    </tr>\n  </tbody>\n</table>\n<p>315636 rows × 6 columns</p>\n</div>"
     },
     "execution_count": 101,
     "metadata": {},
     "output_type": "execute_result"
    }
   ],
   "source": [
    "train_prod = prod[prod.date_cible.dt.year < 2019]\n",
    "test_prod = prod[prod.date_cible.dt.year == 2019]\n",
    "\n",
    "train_prod"
   ],
   "metadata": {
    "collapsed": false,
    "pycharm": {
     "name": "#%%\n"
    }
   }
  },
  {
   "cell_type": "code",
   "execution_count": 102,
   "outputs": [
    {
     "data": {
      "text/plain": "                date_cible perimetre_prod type_prod     comptage  \\\n0      2016-01-02 00:00:00          A.COM    eolien    63.033333   \n1      2016-01-02 00:00:00          CXSSE    eolien    57.766667   \n2      2016-01-02 00:00:00          HOSTE        pv     0.000000   \n3      2016-01-02 00:00:00       national        pv     0.000000   \n4      2016-01-02 00:00:00       national    eolien  5543.000000   \n...                    ...            ...       ...          ...   \n315343 2018-12-31 23:30:00          CXSSE    eolien     0.166667   \n315344 2018-12-31 23:30:00          HOSTE        pv     0.000000   \n315345 2018-12-31 23:30:00       national        pv     0.000000   \n315346 2018-12-31 23:30:00       national    eolien  1612.000000   \n315347 2018-12-31 23:30:00          ONDES        pv     0.000000   \n\n        puissance_installee        FC      date_lancement      u100  \\\n0                     104.7  0.602038 2016-01-01 12:00:00 -5.435037   \n1                      85.8  0.673271 2016-01-01 12:00:00 -4.723014   \n2                      54.0  0.000000 2016-01-01 12:00:00  4.830697   \n3                    6006.0  0.000000 2016-01-01 12:00:00  5.090201   \n4                   10201.0  0.543378 2016-01-01 12:00:00  5.090201   \n...                     ...       ...                 ...       ...   \n315343                 85.8  0.001943 2018-12-30 12:00:00  1.297931   \n315344                 54.0  0.000000 2018-12-30 12:00:00 -3.254897   \n315345               8328.0  0.000000 2018-12-30 12:00:00 -1.700964   \n315346              14500.0  0.111172 2018-12-30 12:00:00 -1.700964   \n315347                 23.4  0.000000 2018-12-30 12:00:00  1.456732   \n\n             v100      ff100       neb        t2m          ssrd  echeance  \\\n0        9.539942  10.980536       NaN   6.325450  2.216240e-03      12.0   \n1        6.589204   8.123462       NaN   6.039697  7.531540e-04      12.0   \n2        2.293848   5.401187       NaN   9.673486 -2.713449e-03      12.0   \n3       11.107833  12.586564  0.738982  10.223554  7.579537e-05      12.0   \n4       11.107833  12.586564  0.738982  10.223554  7.579537e-05      12.0   \n...           ...        ...       ...        ...           ...       ...   \n315343  -3.794680   4.078872       NaN   5.548341  0.000000e+00      35.5   \n315344  -3.460821   4.753223       NaN   3.432281 -1.524659e-18      35.5   \n315345  -3.081915   3.918188  0.866119   6.909247 -7.623297e-19      35.5   \n315346  -3.081915   3.918188  0.866119   6.909247 -7.623297e-19      35.5   \n315347   0.271352   1.490185       NaN   0.168586  0.000000e+00      35.5   \n\n             tcc  \n0       1.000000  \n1       0.999763  \n2       0.999146  \n3            NaN  \n4            NaN  \n...          ...  \n315343  0.784705  \n315344  0.184643  \n315345       NaN  \n315346       NaN  \n315347  0.352040  \n\n[315348 rows x 15 columns]",
      "text/html": "<div>\n<style scoped>\n    .dataframe tbody tr th:only-of-type {\n        vertical-align: middle;\n    }\n\n    .dataframe tbody tr th {\n        vertical-align: top;\n    }\n\n    .dataframe thead th {\n        text-align: right;\n    }\n</style>\n<table border=\"1\" class=\"dataframe\">\n  <thead>\n    <tr style=\"text-align: right;\">\n      <th></th>\n      <th>date_cible</th>\n      <th>perimetre_prod</th>\n      <th>type_prod</th>\n      <th>comptage</th>\n      <th>puissance_installee</th>\n      <th>FC</th>\n      <th>date_lancement</th>\n      <th>u100</th>\n      <th>v100</th>\n      <th>ff100</th>\n      <th>neb</th>\n      <th>t2m</th>\n      <th>ssrd</th>\n      <th>echeance</th>\n      <th>tcc</th>\n    </tr>\n  </thead>\n  <tbody>\n    <tr>\n      <th>0</th>\n      <td>2016-01-02 00:00:00</td>\n      <td>A.COM</td>\n      <td>eolien</td>\n      <td>63.033333</td>\n      <td>104.7</td>\n      <td>0.602038</td>\n      <td>2016-01-01 12:00:00</td>\n      <td>-5.435037</td>\n      <td>9.539942</td>\n      <td>10.980536</td>\n      <td>NaN</td>\n      <td>6.325450</td>\n      <td>2.216240e-03</td>\n      <td>12.0</td>\n      <td>1.000000</td>\n    </tr>\n    <tr>\n      <th>1</th>\n      <td>2016-01-02 00:00:00</td>\n      <td>CXSSE</td>\n      <td>eolien</td>\n      <td>57.766667</td>\n      <td>85.8</td>\n      <td>0.673271</td>\n      <td>2016-01-01 12:00:00</td>\n      <td>-4.723014</td>\n      <td>6.589204</td>\n      <td>8.123462</td>\n      <td>NaN</td>\n      <td>6.039697</td>\n      <td>7.531540e-04</td>\n      <td>12.0</td>\n      <td>0.999763</td>\n    </tr>\n    <tr>\n      <th>2</th>\n      <td>2016-01-02 00:00:00</td>\n      <td>HOSTE</td>\n      <td>pv</td>\n      <td>0.000000</td>\n      <td>54.0</td>\n      <td>0.000000</td>\n      <td>2016-01-01 12:00:00</td>\n      <td>4.830697</td>\n      <td>2.293848</td>\n      <td>5.401187</td>\n      <td>NaN</td>\n      <td>9.673486</td>\n      <td>-2.713449e-03</td>\n      <td>12.0</td>\n      <td>0.999146</td>\n    </tr>\n    <tr>\n      <th>3</th>\n      <td>2016-01-02 00:00:00</td>\n      <td>national</td>\n      <td>pv</td>\n      <td>0.000000</td>\n      <td>6006.0</td>\n      <td>0.000000</td>\n      <td>2016-01-01 12:00:00</td>\n      <td>5.090201</td>\n      <td>11.107833</td>\n      <td>12.586564</td>\n      <td>0.738982</td>\n      <td>10.223554</td>\n      <td>7.579537e-05</td>\n      <td>12.0</td>\n      <td>NaN</td>\n    </tr>\n    <tr>\n      <th>4</th>\n      <td>2016-01-02 00:00:00</td>\n      <td>national</td>\n      <td>eolien</td>\n      <td>5543.000000</td>\n      <td>10201.0</td>\n      <td>0.543378</td>\n      <td>2016-01-01 12:00:00</td>\n      <td>5.090201</td>\n      <td>11.107833</td>\n      <td>12.586564</td>\n      <td>0.738982</td>\n      <td>10.223554</td>\n      <td>7.579537e-05</td>\n      <td>12.0</td>\n      <td>NaN</td>\n    </tr>\n    <tr>\n      <th>...</th>\n      <td>...</td>\n      <td>...</td>\n      <td>...</td>\n      <td>...</td>\n      <td>...</td>\n      <td>...</td>\n      <td>...</td>\n      <td>...</td>\n      <td>...</td>\n      <td>...</td>\n      <td>...</td>\n      <td>...</td>\n      <td>...</td>\n      <td>...</td>\n      <td>...</td>\n    </tr>\n    <tr>\n      <th>315343</th>\n      <td>2018-12-31 23:30:00</td>\n      <td>CXSSE</td>\n      <td>eolien</td>\n      <td>0.166667</td>\n      <td>85.8</td>\n      <td>0.001943</td>\n      <td>2018-12-30 12:00:00</td>\n      <td>1.297931</td>\n      <td>-3.794680</td>\n      <td>4.078872</td>\n      <td>NaN</td>\n      <td>5.548341</td>\n      <td>0.000000e+00</td>\n      <td>35.5</td>\n      <td>0.784705</td>\n    </tr>\n    <tr>\n      <th>315344</th>\n      <td>2018-12-31 23:30:00</td>\n      <td>HOSTE</td>\n      <td>pv</td>\n      <td>0.000000</td>\n      <td>54.0</td>\n      <td>0.000000</td>\n      <td>2018-12-30 12:00:00</td>\n      <td>-3.254897</td>\n      <td>-3.460821</td>\n      <td>4.753223</td>\n      <td>NaN</td>\n      <td>3.432281</td>\n      <td>-1.524659e-18</td>\n      <td>35.5</td>\n      <td>0.184643</td>\n    </tr>\n    <tr>\n      <th>315345</th>\n      <td>2018-12-31 23:30:00</td>\n      <td>national</td>\n      <td>pv</td>\n      <td>0.000000</td>\n      <td>8328.0</td>\n      <td>0.000000</td>\n      <td>2018-12-30 12:00:00</td>\n      <td>-1.700964</td>\n      <td>-3.081915</td>\n      <td>3.918188</td>\n      <td>0.866119</td>\n      <td>6.909247</td>\n      <td>-7.623297e-19</td>\n      <td>35.5</td>\n      <td>NaN</td>\n    </tr>\n    <tr>\n      <th>315346</th>\n      <td>2018-12-31 23:30:00</td>\n      <td>national</td>\n      <td>eolien</td>\n      <td>1612.000000</td>\n      <td>14500.0</td>\n      <td>0.111172</td>\n      <td>2018-12-30 12:00:00</td>\n      <td>-1.700964</td>\n      <td>-3.081915</td>\n      <td>3.918188</td>\n      <td>0.866119</td>\n      <td>6.909247</td>\n      <td>-7.623297e-19</td>\n      <td>35.5</td>\n      <td>NaN</td>\n    </tr>\n    <tr>\n      <th>315347</th>\n      <td>2018-12-31 23:30:00</td>\n      <td>ONDES</td>\n      <td>pv</td>\n      <td>0.000000</td>\n      <td>23.4</td>\n      <td>0.000000</td>\n      <td>2018-12-30 12:00:00</td>\n      <td>1.456732</td>\n      <td>0.271352</td>\n      <td>1.490185</td>\n      <td>NaN</td>\n      <td>0.168586</td>\n      <td>0.000000e+00</td>\n      <td>35.5</td>\n      <td>0.352040</td>\n    </tr>\n  </tbody>\n</table>\n<p>315348 rows × 15 columns</p>\n</div>"
     },
     "execution_count": 102,
     "metadata": {},
     "output_type": "execute_result"
    }
   ],
   "source": [
    "train_df = train_prod.merge(train_meteo_df, on=['perimetre_prod','date_cible'], how='inner')\n",
    "test_df = test_prod.merge(train_meteo_df, on=['perimetre_prod','date_cible'], how='inner')\n",
    "train_df"
   ],
   "metadata": {
    "collapsed": false,
    "pycharm": {
     "name": "#%%\n"
    }
   }
  },
  {
   "cell_type": "markdown",
   "source": [
    "### Build 6 datasets"
   ],
   "metadata": {
    "collapsed": false,
    "pycharm": {
     "name": "#%% md\n"
    }
   }
  },
  {
   "cell_type": "code",
   "execution_count": 103,
   "outputs": [
    {
     "data": {
      "text/plain": "                date_cible perimetre_prod type_prod     comptage  \\\n0      2016-01-02 00:00:00          A.COM    eolien    63.033333   \n1      2016-01-02 00:00:00          CXSSE    eolien    57.766667   \n2      2016-01-02 00:00:00          HOSTE        pv     0.000000   \n3      2016-01-02 00:00:00       national        pv     0.000000   \n4      2016-01-02 00:00:00       national    eolien  5543.000000   \n...                    ...            ...       ...          ...   \n315343 2018-12-31 23:30:00          CXSSE    eolien     0.166667   \n315344 2018-12-31 23:30:00          HOSTE        pv     0.000000   \n315345 2018-12-31 23:30:00       national        pv     0.000000   \n315346 2018-12-31 23:30:00       national    eolien  1612.000000   \n315347 2018-12-31 23:30:00          ONDES        pv     0.000000   \n\n        puissance_installee        FC      date_lancement      u100  \\\n0                     104.7  0.602038 2016-01-01 12:00:00 -5.435037   \n1                      85.8  0.673271 2016-01-01 12:00:00 -4.723014   \n2                      54.0  0.000000 2016-01-01 12:00:00  4.830697   \n3                    6006.0  0.000000 2016-01-01 12:00:00  5.090201   \n4                   10201.0  0.543378 2016-01-01 12:00:00  5.090201   \n...                     ...       ...                 ...       ...   \n315343                 85.8  0.001943 2018-12-30 12:00:00  1.297931   \n315344                 54.0  0.000000 2018-12-30 12:00:00 -3.254897   \n315345               8328.0  0.000000 2018-12-30 12:00:00 -1.700964   \n315346              14500.0  0.111172 2018-12-30 12:00:00 -1.700964   \n315347                 23.4  0.000000 2018-12-30 12:00:00  1.456732   \n\n             v100      ff100       neb        t2m          ssrd  echeance  \\\n0        9.539942  10.980536       NaN   6.325450  2.216240e-03      12.0   \n1        6.589204   8.123462       NaN   6.039697  7.531540e-04      12.0   \n2        2.293848   5.401187       NaN   9.673486 -2.713449e-03      12.0   \n3       11.107833  12.586564  0.738982  10.223554  7.579537e-05      12.0   \n4       11.107833  12.586564  0.738982  10.223554  7.579537e-05      12.0   \n...           ...        ...       ...        ...           ...       ...   \n315343  -3.794680   4.078872       NaN   5.548341  0.000000e+00      35.5   \n315344  -3.460821   4.753223       NaN   3.432281 -1.524659e-18      35.5   \n315345  -3.081915   3.918188  0.866119   6.909247 -7.623297e-19      35.5   \n315346  -3.081915   3.918188  0.866119   6.909247 -7.623297e-19      35.5   \n315347   0.271352   1.490185       NaN   0.168586  0.000000e+00      35.5   \n\n             tcc  \n0       1.000000  \n1       0.999763  \n2       0.999146  \n3            NaN  \n4            NaN  \n...          ...  \n315343  0.784705  \n315344  0.184643  \n315345       NaN  \n315346       NaN  \n315347  0.352040  \n\n[315348 rows x 15 columns]",
      "text/html": "<div>\n<style scoped>\n    .dataframe tbody tr th:only-of-type {\n        vertical-align: middle;\n    }\n\n    .dataframe tbody tr th {\n        vertical-align: top;\n    }\n\n    .dataframe thead th {\n        text-align: right;\n    }\n</style>\n<table border=\"1\" class=\"dataframe\">\n  <thead>\n    <tr style=\"text-align: right;\">\n      <th></th>\n      <th>date_cible</th>\n      <th>perimetre_prod</th>\n      <th>type_prod</th>\n      <th>comptage</th>\n      <th>puissance_installee</th>\n      <th>FC</th>\n      <th>date_lancement</th>\n      <th>u100</th>\n      <th>v100</th>\n      <th>ff100</th>\n      <th>neb</th>\n      <th>t2m</th>\n      <th>ssrd</th>\n      <th>echeance</th>\n      <th>tcc</th>\n    </tr>\n  </thead>\n  <tbody>\n    <tr>\n      <th>0</th>\n      <td>2016-01-02 00:00:00</td>\n      <td>A.COM</td>\n      <td>eolien</td>\n      <td>63.033333</td>\n      <td>104.7</td>\n      <td>0.602038</td>\n      <td>2016-01-01 12:00:00</td>\n      <td>-5.435037</td>\n      <td>9.539942</td>\n      <td>10.980536</td>\n      <td>NaN</td>\n      <td>6.325450</td>\n      <td>2.216240e-03</td>\n      <td>12.0</td>\n      <td>1.000000</td>\n    </tr>\n    <tr>\n      <th>1</th>\n      <td>2016-01-02 00:00:00</td>\n      <td>CXSSE</td>\n      <td>eolien</td>\n      <td>57.766667</td>\n      <td>85.8</td>\n      <td>0.673271</td>\n      <td>2016-01-01 12:00:00</td>\n      <td>-4.723014</td>\n      <td>6.589204</td>\n      <td>8.123462</td>\n      <td>NaN</td>\n      <td>6.039697</td>\n      <td>7.531540e-04</td>\n      <td>12.0</td>\n      <td>0.999763</td>\n    </tr>\n    <tr>\n      <th>2</th>\n      <td>2016-01-02 00:00:00</td>\n      <td>HOSTE</td>\n      <td>pv</td>\n      <td>0.000000</td>\n      <td>54.0</td>\n      <td>0.000000</td>\n      <td>2016-01-01 12:00:00</td>\n      <td>4.830697</td>\n      <td>2.293848</td>\n      <td>5.401187</td>\n      <td>NaN</td>\n      <td>9.673486</td>\n      <td>-2.713449e-03</td>\n      <td>12.0</td>\n      <td>0.999146</td>\n    </tr>\n    <tr>\n      <th>3</th>\n      <td>2016-01-02 00:00:00</td>\n      <td>national</td>\n      <td>pv</td>\n      <td>0.000000</td>\n      <td>6006.0</td>\n      <td>0.000000</td>\n      <td>2016-01-01 12:00:00</td>\n      <td>5.090201</td>\n      <td>11.107833</td>\n      <td>12.586564</td>\n      <td>0.738982</td>\n      <td>10.223554</td>\n      <td>7.579537e-05</td>\n      <td>12.0</td>\n      <td>NaN</td>\n    </tr>\n    <tr>\n      <th>4</th>\n      <td>2016-01-02 00:00:00</td>\n      <td>national</td>\n      <td>eolien</td>\n      <td>5543.000000</td>\n      <td>10201.0</td>\n      <td>0.543378</td>\n      <td>2016-01-01 12:00:00</td>\n      <td>5.090201</td>\n      <td>11.107833</td>\n      <td>12.586564</td>\n      <td>0.738982</td>\n      <td>10.223554</td>\n      <td>7.579537e-05</td>\n      <td>12.0</td>\n      <td>NaN</td>\n    </tr>\n    <tr>\n      <th>...</th>\n      <td>...</td>\n      <td>...</td>\n      <td>...</td>\n      <td>...</td>\n      <td>...</td>\n      <td>...</td>\n      <td>...</td>\n      <td>...</td>\n      <td>...</td>\n      <td>...</td>\n      <td>...</td>\n      <td>...</td>\n      <td>...</td>\n      <td>...</td>\n      <td>...</td>\n    </tr>\n    <tr>\n      <th>315343</th>\n      <td>2018-12-31 23:30:00</td>\n      <td>CXSSE</td>\n      <td>eolien</td>\n      <td>0.166667</td>\n      <td>85.8</td>\n      <td>0.001943</td>\n      <td>2018-12-30 12:00:00</td>\n      <td>1.297931</td>\n      <td>-3.794680</td>\n      <td>4.078872</td>\n      <td>NaN</td>\n      <td>5.548341</td>\n      <td>0.000000e+00</td>\n      <td>35.5</td>\n      <td>0.784705</td>\n    </tr>\n    <tr>\n      <th>315344</th>\n      <td>2018-12-31 23:30:00</td>\n      <td>HOSTE</td>\n      <td>pv</td>\n      <td>0.000000</td>\n      <td>54.0</td>\n      <td>0.000000</td>\n      <td>2018-12-30 12:00:00</td>\n      <td>-3.254897</td>\n      <td>-3.460821</td>\n      <td>4.753223</td>\n      <td>NaN</td>\n      <td>3.432281</td>\n      <td>-1.524659e-18</td>\n      <td>35.5</td>\n      <td>0.184643</td>\n    </tr>\n    <tr>\n      <th>315345</th>\n      <td>2018-12-31 23:30:00</td>\n      <td>national</td>\n      <td>pv</td>\n      <td>0.000000</td>\n      <td>8328.0</td>\n      <td>0.000000</td>\n      <td>2018-12-30 12:00:00</td>\n      <td>-1.700964</td>\n      <td>-3.081915</td>\n      <td>3.918188</td>\n      <td>0.866119</td>\n      <td>6.909247</td>\n      <td>-7.623297e-19</td>\n      <td>35.5</td>\n      <td>NaN</td>\n    </tr>\n    <tr>\n      <th>315346</th>\n      <td>2018-12-31 23:30:00</td>\n      <td>national</td>\n      <td>eolien</td>\n      <td>1612.000000</td>\n      <td>14500.0</td>\n      <td>0.111172</td>\n      <td>2018-12-30 12:00:00</td>\n      <td>-1.700964</td>\n      <td>-3.081915</td>\n      <td>3.918188</td>\n      <td>0.866119</td>\n      <td>6.909247</td>\n      <td>-7.623297e-19</td>\n      <td>35.5</td>\n      <td>NaN</td>\n    </tr>\n    <tr>\n      <th>315347</th>\n      <td>2018-12-31 23:30:00</td>\n      <td>ONDES</td>\n      <td>pv</td>\n      <td>0.000000</td>\n      <td>23.4</td>\n      <td>0.000000</td>\n      <td>2018-12-30 12:00:00</td>\n      <td>1.456732</td>\n      <td>0.271352</td>\n      <td>1.490185</td>\n      <td>NaN</td>\n      <td>0.168586</td>\n      <td>0.000000e+00</td>\n      <td>35.5</td>\n      <td>0.352040</td>\n    </tr>\n  </tbody>\n</table>\n<p>315348 rows × 15 columns</p>\n</div>"
     },
     "execution_count": 103,
     "metadata": {},
     "output_type": "execute_result"
    }
   ],
   "source": [
    "features = ['puissance_installee','u100','v100','ff100','neb','t2m','ssrd','tcc']\n",
    "\n",
    "train_df"
   ],
   "metadata": {
    "collapsed": false,
    "pycharm": {
     "name": "#%%\n"
    }
   }
  },
  {
   "cell_type": "code",
   "execution_count": 104,
   "outputs": [],
   "source": [
    "\n",
    "regressor = LinearRegression()"
   ],
   "metadata": {
    "collapsed": false,
    "pycharm": {
     "name": "#%%\n"
    }
   }
  },
  {
   "cell_type": "code",
   "execution_count": 105,
   "outputs": [
    {
     "data": {
      "text/plain": "LinearRegression()"
     },
     "execution_count": 105,
     "metadata": {},
     "output_type": "execute_result"
    }
   ],
   "source": [
    "regressor.fit(train_df[features].dropna(axis='columns'),train_df['FC'])"
   ],
   "metadata": {
    "collapsed": false,
    "pycharm": {
     "name": "#%%\n"
    }
   }
  },
  {
   "cell_type": "code",
   "execution_count": 106,
   "outputs": [],
   "source": [
    "test_df['prev_FC'] = regressor.predict(test_df[features].dropna(axis='columns'))"
   ],
   "metadata": {
    "collapsed": false,
    "pycharm": {
     "name": "#%%\n"
    }
   }
  },
  {
   "cell_type": "code",
   "execution_count": 108,
   "outputs": [],
   "source": [
    "test_df_result = test_df.copy()\n",
    "def is_target_of_challenge(row):\n",
    "    if row.perimetre_prod=='A.COM' and row.type_prod =='eolien':\n",
    "        return True\n",
    "    elif row.perimetre_prod=='CXSSE' and row.type_prod =='eolien':\n",
    "        return True\n",
    "    elif row.perimetre_prod=='HOSTE' and row.type_prod =='pv':\n",
    "        return True\n",
    "    elif row.perimetre_prod=='ONDES' and row.type_prod =='pv':\n",
    "        return True\n",
    "    elif row.perimetre_prod=='national' and row.type_prod in ['pv','eolien']:\n",
    "        return True\n",
    "#test_df_result.date_cible = test_df_result.date_cible.apply(str)\n",
    "test_df_result = test_df_result[test_df_result.apply(is_target_of_challenge,axis=1)]"
   ],
   "metadata": {
    "collapsed": false,
    "pycharm": {
     "name": "#%%\n"
    }
   }
  },
  {
   "cell_type": "code",
   "execution_count": 111,
   "outputs": [],
   "source": [
    "test_df_result[['date_cible','perimetre_prod','type_prod','prev_FC']]\\\n",
    "    .to_csv('preds_alexandre_rozier.csv',sep=';',index=False,date_format='%Y-%m-%dT%H:%M:%SZ',float_format=\"%.3f\",decimal='.')\n",
    "\n"
   ],
   "metadata": {
    "collapsed": false,
    "pycharm": {
     "name": "#%%\n"
    }
   }
  }
 ],
 "metadata": {
  "kernelspec": {
   "display_name": "Python 3 (ipykernel)",
   "language": "python",
   "name": "python3"
  },
  "language_info": {
   "codemirror_mode": {
    "name": "ipython",
    "version": 3
   },
   "file_extension": ".py",
   "mimetype": "text/x-python",
   "name": "python",
   "nbconvert_exporter": "python",
   "pygments_lexer": "ipython3",
   "version": "3.7.10"
  }
 },
 "nbformat": 4,
 "nbformat_minor": 1
}