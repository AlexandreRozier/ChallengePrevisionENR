{
 "cells": [
  {
   "cell_type": "code",
   "execution_count": 24,
   "metadata": {},
   "outputs": [],
   "source": [
    "import csv\n",
    "import datetime\n",
    "from datetime import timedelta\n",
    "\n",
    "import pandas as pd\n",
    "import pyreadr\n",
    "from matplotlib import pyplot as plt\n",
    "from pygam import LinearGAM, s\n",
    "from pygam.terms import TermList\n",
    "from sklearn.linear_model import LinearRegression\n",
    "\n",
    "output_cols = ['date_cible','perimetre_prod','type_prod','prev_FC']"
   ]
  },
  {
   "cell_type": "code",
   "execution_count": 4,
   "outputs": [
    {
     "data": {
      "text/plain": "  SUBSTATION       LON        LAT\n0      A.COM  2.512180  50.272269\n1      HOSTE -0.625940  44.485958\n2      CXSSE  4.511712  48.838806\n3      ONDES  1.305962  43.784788",
      "text/html": "<div>\n<style scoped>\n    .dataframe tbody tr th:only-of-type {\n        vertical-align: middle;\n    }\n\n    .dataframe tbody tr th {\n        vertical-align: top;\n    }\n\n    .dataframe thead th {\n        text-align: right;\n    }\n</style>\n<table border=\"1\" class=\"dataframe\">\n  <thead>\n    <tr style=\"text-align: right;\">\n      <th></th>\n      <th>SUBSTATION</th>\n      <th>LON</th>\n      <th>LAT</th>\n    </tr>\n  </thead>\n  <tbody>\n    <tr>\n      <th>0</th>\n      <td>A.COM</td>\n      <td>2.512180</td>\n      <td>50.272269</td>\n    </tr>\n    <tr>\n      <th>1</th>\n      <td>HOSTE</td>\n      <td>-0.625940</td>\n      <td>44.485958</td>\n    </tr>\n    <tr>\n      <th>2</th>\n      <td>CXSSE</td>\n      <td>4.511712</td>\n      <td>48.838806</td>\n    </tr>\n    <tr>\n      <th>3</th>\n      <td>ONDES</td>\n      <td>1.305962</td>\n      <td>43.784788</td>\n    </tr>\n  </tbody>\n</table>\n</div>"
     },
     "execution_count": 4,
     "metadata": {},
     "output_type": "execute_result"
    }
   ],
   "source": [
    "substation_df = pd.read_csv('coord_substations.csv')\n",
    "substation_df"
   ],
   "metadata": {
    "collapsed": false,
    "pycharm": {
     "name": "#%%\n"
    }
   }
  },
  {
   "cell_type": "code",
   "execution_count": 5,
   "metadata": {
    "pycharm": {
     "name": "#%%\n"
    }
   },
   "outputs": [
    {
     "name": "stdout",
     "output_type": "stream",
     "text": [
      "<class 'pandas.core.frame.DataFrame'>\n",
      "RangeIndex: 35 entries, 0 to 34\n",
      "Data columns (total 13 columns):\n",
      " #   Column        Non-Null Count  Dtype \n",
      "---  ------        --------------  ----- \n",
      " 0   IOMM          35 non-null     int64 \n",
      " 1   code_station  35 non-null     int64 \n",
      " 2   Station       35 non-null     object\n",
      " 3   NOM_USUEL     35 non-null     object\n",
      " 4   Coeff         35 non-null     object\n",
      " 5   Code_postal   35 non-null     int64 \n",
      " 6   Code_insee    35 non-null     int64 \n",
      " 7   Reg           35 non-null     object\n",
      " 8   Label_reg     35 non-null     object\n",
      " 9   Dep           35 non-null     int64 \n",
      " 10  LATITUDE      35 non-null     object\n",
      " 11  LONGITUDE     35 non-null     object\n",
      " 12  ALTITUDE      35 non-null     int64 \n",
      "dtypes: int64(6), object(7)\n",
      "memory usage: 3.7+ KB\n"
     ]
    }
   ],
   "source": [
    "station_df = pd.read_csv('liste_stations.csv', sep=';')\n",
    "station_df.info()\n"
   ]
  },
  {
   "cell_type": "code",
   "execution_count": 6,
   "metadata": {
    "pycharm": {
     "name": "#%%\n"
    }
   },
   "outputs": [
    {
     "data": {
      "text/plain": "                date_cible perimetre_prod type_prod     comptage  \\\n0      2016-01-01 00:00:00          A.COM    eolien    47.500000   \n1      2016-01-01 00:00:00          CXSSE    eolien    24.200000   \n2      2016-01-01 00:00:00          HOSTE        pv     0.000000   \n3      2016-01-01 00:00:00       national        pv     0.000000   \n4      2016-01-01 00:00:00       national    eolien  2199.000000   \n...                    ...            ...       ...          ...   \n315631 2018-12-31 23:30:00          CXSSE    eolien     0.166667   \n315632 2018-12-31 23:30:00          HOSTE        pv     0.000000   \n315633 2018-12-31 23:30:00       national        pv     0.000000   \n315634 2018-12-31 23:30:00       national    eolien  1612.000000   \n315635 2018-12-31 23:30:00          ONDES        pv     0.000000   \n\n        puissance_installee        FC  time_in_day  \n0                     104.7  0.453677     0.000000  \n1                      85.8  0.282051     0.000000  \n2                      54.0  0.000000     0.000000  \n3                    6006.0  0.000000     0.000000  \n4                   10201.0  0.215567     0.000000  \n...                     ...       ...          ...  \n315631                 85.8  0.001943     0.979167  \n315632                 54.0  0.000000     0.979167  \n315633               8328.0  0.000000     0.979167  \n315634              14500.0  0.111172     0.979167  \n315635                 23.4  0.000000     0.979167  \n\n[315636 rows x 7 columns]",
      "text/html": "<div>\n<style scoped>\n    .dataframe tbody tr th:only-of-type {\n        vertical-align: middle;\n    }\n\n    .dataframe tbody tr th {\n        vertical-align: top;\n    }\n\n    .dataframe thead th {\n        text-align: right;\n    }\n</style>\n<table border=\"1\" class=\"dataframe\">\n  <thead>\n    <tr style=\"text-align: right;\">\n      <th></th>\n      <th>date_cible</th>\n      <th>perimetre_prod</th>\n      <th>type_prod</th>\n      <th>comptage</th>\n      <th>puissance_installee</th>\n      <th>FC</th>\n      <th>time_in_day</th>\n    </tr>\n  </thead>\n  <tbody>\n    <tr>\n      <th>0</th>\n      <td>2016-01-01 00:00:00</td>\n      <td>A.COM</td>\n      <td>eolien</td>\n      <td>47.500000</td>\n      <td>104.7</td>\n      <td>0.453677</td>\n      <td>0.000000</td>\n    </tr>\n    <tr>\n      <th>1</th>\n      <td>2016-01-01 00:00:00</td>\n      <td>CXSSE</td>\n      <td>eolien</td>\n      <td>24.200000</td>\n      <td>85.8</td>\n      <td>0.282051</td>\n      <td>0.000000</td>\n    </tr>\n    <tr>\n      <th>2</th>\n      <td>2016-01-01 00:00:00</td>\n      <td>HOSTE</td>\n      <td>pv</td>\n      <td>0.000000</td>\n      <td>54.0</td>\n      <td>0.000000</td>\n      <td>0.000000</td>\n    </tr>\n    <tr>\n      <th>3</th>\n      <td>2016-01-01 00:00:00</td>\n      <td>national</td>\n      <td>pv</td>\n      <td>0.000000</td>\n      <td>6006.0</td>\n      <td>0.000000</td>\n      <td>0.000000</td>\n    </tr>\n    <tr>\n      <th>4</th>\n      <td>2016-01-01 00:00:00</td>\n      <td>national</td>\n      <td>eolien</td>\n      <td>2199.000000</td>\n      <td>10201.0</td>\n      <td>0.215567</td>\n      <td>0.000000</td>\n    </tr>\n    <tr>\n      <th>...</th>\n      <td>...</td>\n      <td>...</td>\n      <td>...</td>\n      <td>...</td>\n      <td>...</td>\n      <td>...</td>\n      <td>...</td>\n    </tr>\n    <tr>\n      <th>315631</th>\n      <td>2018-12-31 23:30:00</td>\n      <td>CXSSE</td>\n      <td>eolien</td>\n      <td>0.166667</td>\n      <td>85.8</td>\n      <td>0.001943</td>\n      <td>0.979167</td>\n    </tr>\n    <tr>\n      <th>315632</th>\n      <td>2018-12-31 23:30:00</td>\n      <td>HOSTE</td>\n      <td>pv</td>\n      <td>0.000000</td>\n      <td>54.0</td>\n      <td>0.000000</td>\n      <td>0.979167</td>\n    </tr>\n    <tr>\n      <th>315633</th>\n      <td>2018-12-31 23:30:00</td>\n      <td>national</td>\n      <td>pv</td>\n      <td>0.000000</td>\n      <td>8328.0</td>\n      <td>0.000000</td>\n      <td>0.979167</td>\n    </tr>\n    <tr>\n      <th>315634</th>\n      <td>2018-12-31 23:30:00</td>\n      <td>national</td>\n      <td>eolien</td>\n      <td>1612.000000</td>\n      <td>14500.0</td>\n      <td>0.111172</td>\n      <td>0.979167</td>\n    </tr>\n    <tr>\n      <th>315635</th>\n      <td>2018-12-31 23:30:00</td>\n      <td>ONDES</td>\n      <td>pv</td>\n      <td>0.000000</td>\n      <td>23.4</td>\n      <td>0.000000</td>\n      <td>0.979167</td>\n    </tr>\n  </tbody>\n</table>\n<p>315636 rows × 7 columns</p>\n</div>"
     },
     "execution_count": 6,
     "metadata": {},
     "output_type": "execute_result"
    }
   ],
   "source": [
    "prod = pyreadr.read_r('prod.RDS')[None]\n",
    "prod['time_in_day'] = prod.date_cible.apply(lambda dt: (3600*dt.hour+60*dt.minute + dt.second)/(24*3600))\n",
    "train_prod = prod[prod.date_cible.dt.year < 2019]\n",
    "test_prod = prod[prod.date_cible.dt.year == 2019]\n",
    "\n",
    "train_prod"
   ]
  },
  {
   "cell_type": "markdown",
   "metadata": {
    "pycharm": {
     "name": "#%% md\n"
    }
   },
   "source": [
    "## Météo ECMWF"
   ]
  },
  {
   "cell_type": "code",
   "execution_count": 7,
   "metadata": {
    "pycharm": {
     "name": "#%%\n"
    }
   },
   "outputs": [
    {
     "name": "stderr",
     "output_type": "stream",
     "text": [
      "/home/rozierale/.miniconda3/envs/origami/lib/python3.7/site-packages/pandas/core/frame.py:4908: SettingWithCopyWarning: \n",
      "A value is trying to be set on a copy of a slice from a DataFrame\n",
      "\n",
      "See the caveats in the documentation: https://pandas.pydata.org/pandas-docs/stable/user_guide/indexing.html#returning-a-view-versus-a-copy\n",
      "  errors=errors,\n"
     ]
    }
   ],
   "source": [
    "meteo_ce_ecmwf = pyreadr.read_r('meteo_ce_allvar_grille_ecmwf.RDS')[None]\n",
    "meteo_ce_ecmwf.rename(columns={'zone':'perimetre_prod'},inplace=True)\n",
    "\n",
    "def preprocess_meteo(df):\n",
    "    # Keep valid previsions (date_lancement < veille, 16h)\n",
    "    out_df = df[df.apply(keep_valid_forecasts, axis=1)]\n",
    "    out_df.drop(columns='echeance',inplace=True)\n",
    "    # Keep latest date_lancement for each date_cible\n",
    "    out_df = out_df.groupby(['perimetre_prod', 'date_cible']).last().reset_index()\n",
    "\n",
    "    return out_df\n",
    "\n",
    "def keep_valid_forecasts(row):\n",
    "    veille = (row.date_cible - timedelta(days=1))\n",
    "    earliest_valid_lancement = veille.replace(hour=16)\n",
    "    return row.date_lancement < earliest_valid_lancement\n",
    "\n",
    "\n",
    "valid_ce_meteo_df = preprocess_meteo(meteo_ce_ecmwf)"
   ]
  },
  {
   "cell_type": "code",
   "execution_count": 8,
   "outputs": [
    {
     "data": {
      "text/plain": "                                    date_lancement  u100  v100  ff100  neb  \\\nperimetre_prod date_cible                                                    \nFrance         2016-01-02 00:00:00               1     1     1      1    1   \n               2016-01-02 00:30:00               1     1     1      1    1   \n               2016-01-02 01:00:00               1     1     1      1    1   \n               2016-01-02 01:30:00               1     1     1      1    1   \n               2016-01-02 02:00:00               1     1     1      1    1   \n...                                            ...   ...   ...    ...  ...   \nSESO           2019-12-31 21:30:00               1     1     1      1    1   \n               2019-12-31 22:00:00               1     1     1      1    1   \n               2019-12-31 22:30:00               1     1     1      1    1   \n               2019-12-31 23:00:00               1     1     1      1    1   \n               2019-12-31 23:30:00               1     1     1      1    1   \n\n                                    t2m  ssrd  \nperimetre_prod date_cible                      \nFrance         2016-01-02 00:00:00    1     1  \n               2016-01-02 00:30:00    1     1  \n               2016-01-02 01:00:00    1     1  \n               2016-01-02 01:30:00    1     1  \n               2016-01-02 02:00:00    1     1  \n...                                 ...   ...  \nSESO           2019-12-31 21:30:00    1     1  \n               2019-12-31 22:00:00    1     1  \n               2019-12-31 22:30:00    1     1  \n               2019-12-31 23:00:00    1     1  \n               2019-12-31 23:30:00    1     1  \n\n[560640 rows x 7 columns]",
      "text/html": "<div>\n<style scoped>\n    .dataframe tbody tr th:only-of-type {\n        vertical-align: middle;\n    }\n\n    .dataframe tbody tr th {\n        vertical-align: top;\n    }\n\n    .dataframe thead th {\n        text-align: right;\n    }\n</style>\n<table border=\"1\" class=\"dataframe\">\n  <thead>\n    <tr style=\"text-align: right;\">\n      <th></th>\n      <th></th>\n      <th>date_lancement</th>\n      <th>u100</th>\n      <th>v100</th>\n      <th>ff100</th>\n      <th>neb</th>\n      <th>t2m</th>\n      <th>ssrd</th>\n    </tr>\n    <tr>\n      <th>perimetre_prod</th>\n      <th>date_cible</th>\n      <th></th>\n      <th></th>\n      <th></th>\n      <th></th>\n      <th></th>\n      <th></th>\n      <th></th>\n    </tr>\n  </thead>\n  <tbody>\n    <tr>\n      <th rowspan=\"5\" valign=\"top\">France</th>\n      <th>2016-01-02 00:00:00</th>\n      <td>1</td>\n      <td>1</td>\n      <td>1</td>\n      <td>1</td>\n      <td>1</td>\n      <td>1</td>\n      <td>1</td>\n    </tr>\n    <tr>\n      <th>2016-01-02 00:30:00</th>\n      <td>1</td>\n      <td>1</td>\n      <td>1</td>\n      <td>1</td>\n      <td>1</td>\n      <td>1</td>\n      <td>1</td>\n    </tr>\n    <tr>\n      <th>2016-01-02 01:00:00</th>\n      <td>1</td>\n      <td>1</td>\n      <td>1</td>\n      <td>1</td>\n      <td>1</td>\n      <td>1</td>\n      <td>1</td>\n    </tr>\n    <tr>\n      <th>2016-01-02 01:30:00</th>\n      <td>1</td>\n      <td>1</td>\n      <td>1</td>\n      <td>1</td>\n      <td>1</td>\n      <td>1</td>\n      <td>1</td>\n    </tr>\n    <tr>\n      <th>2016-01-02 02:00:00</th>\n      <td>1</td>\n      <td>1</td>\n      <td>1</td>\n      <td>1</td>\n      <td>1</td>\n      <td>1</td>\n      <td>1</td>\n    </tr>\n    <tr>\n      <th>...</th>\n      <th>...</th>\n      <td>...</td>\n      <td>...</td>\n      <td>...</td>\n      <td>...</td>\n      <td>...</td>\n      <td>...</td>\n      <td>...</td>\n    </tr>\n    <tr>\n      <th rowspan=\"5\" valign=\"top\">SESO</th>\n      <th>2019-12-31 21:30:00</th>\n      <td>1</td>\n      <td>1</td>\n      <td>1</td>\n      <td>1</td>\n      <td>1</td>\n      <td>1</td>\n      <td>1</td>\n    </tr>\n    <tr>\n      <th>2019-12-31 22:00:00</th>\n      <td>1</td>\n      <td>1</td>\n      <td>1</td>\n      <td>1</td>\n      <td>1</td>\n      <td>1</td>\n      <td>1</td>\n    </tr>\n    <tr>\n      <th>2019-12-31 22:30:00</th>\n      <td>1</td>\n      <td>1</td>\n      <td>1</td>\n      <td>1</td>\n      <td>1</td>\n      <td>1</td>\n      <td>1</td>\n    </tr>\n    <tr>\n      <th>2019-12-31 23:00:00</th>\n      <td>1</td>\n      <td>1</td>\n      <td>1</td>\n      <td>1</td>\n      <td>1</td>\n      <td>1</td>\n      <td>1</td>\n    </tr>\n    <tr>\n      <th>2019-12-31 23:30:00</th>\n      <td>1</td>\n      <td>1</td>\n      <td>1</td>\n      <td>1</td>\n      <td>1</td>\n      <td>1</td>\n      <td>1</td>\n    </tr>\n  </tbody>\n</table>\n<p>560640 rows × 7 columns</p>\n</div>"
     },
     "execution_count": 8,
     "metadata": {},
     "output_type": "execute_result"
    }
   ],
   "source": [
    "# Check if only one date_lancement per date_cible\n",
    "valid_ce_meteo_df.groupby(['perimetre_prod', 'date_cible']).count()"
   ],
   "metadata": {
    "collapsed": false,
    "pycharm": {
     "name": "#%%\n"
    }
   }
  },
  {
   "cell_type": "code",
   "execution_count": 9,
   "metadata": {
    "pycharm": {
     "name": "#%%\n"
    }
   },
   "outputs": [
    {
     "name": "stdout",
     "output_type": "stream",
     "text": [
      "<class 'pandas.core.frame.DataFrame'>\n",
      "RangeIndex: 846504 entries, 0 to 846503\n",
      "Data columns (total 10 columns):\n",
      " #   Column          Non-Null Count   Dtype         \n",
      "---  ------          --------------   -----         \n",
      " 0   date_lancement  846504 non-null  datetime64[ns]\n",
      " 1   perimetre_prod  846504 non-null  object        \n",
      " 2   date_cible      846504 non-null  datetime64[ns]\n",
      " 3   tcc             846504 non-null  float64       \n",
      " 4   t2m             846504 non-null  float64       \n",
      " 5   ssrd            846504 non-null  float64       \n",
      " 6   u100            846504 non-null  float64       \n",
      " 7   v100            846504 non-null  float64       \n",
      " 8   ff100           846504 non-null  float64       \n",
      " 9   echeance        846504 non-null  float64       \n",
      "dtypes: datetime64[ns](2), float64(7), object(1)\n",
      "memory usage: 64.6+ MB\n"
     ]
    }
   ],
   "source": [
    "meteo_locale_ecmwf = pyreadr.read_r('meteo_locale_allvar_grille_ecmwf.RDS')[None]\n",
    "meteo_locale_ecmwf.info()"
   ]
  },
  {
   "cell_type": "code",
   "execution_count": 10,
   "outputs": [
    {
     "name": "stderr",
     "output_type": "stream",
     "text": [
      "/home/rozierale/.miniconda3/envs/origami/lib/python3.7/site-packages/pandas/core/frame.py:4908: SettingWithCopyWarning: \n",
      "A value is trying to be set on a copy of a slice from a DataFrame\n",
      "\n",
      "See the caveats in the documentation: https://pandas.pydata.org/pandas-docs/stable/user_guide/indexing.html#returning-a-view-versus-a-copy\n",
      "  errors=errors,\n"
     ]
    },
    {
     "data": {
      "text/plain": "       perimetre_prod          date_cible      date_lancement       tcc  \\\n0               A.COM 2016-01-02 00:00:00 2016-01-01 12:00:00  1.000000   \n1               A.COM 2016-01-02 00:30:00 2016-01-01 12:00:00  0.999551   \n2               A.COM 2016-01-02 01:00:00 2016-01-01 12:00:00  1.000000   \n3               A.COM 2016-01-02 01:30:00 2016-01-01 12:00:00  1.000689   \n4               A.COM 2016-01-02 02:00:00 2016-01-01 12:00:00  1.000000   \n...               ...                 ...                 ...       ...   \n280315          ONDES 2019-12-31 21:30:00 2019-12-30 12:00:00  0.589047   \n280316          ONDES 2019-12-31 22:00:00 2019-12-30 12:00:00  0.623447   \n280317          ONDES 2019-12-31 22:30:00 2019-12-30 12:00:00  0.679307   \n280318          ONDES 2019-12-31 23:00:00 2019-12-30 12:00:00  0.730482   \n280319          ONDES 2019-12-31 23:30:00 2019-12-30 12:00:00  0.757037   \n\n             t2m          ssrd      u100      v100      ff100  \n0       6.325450  2.216240e-03 -5.435037  9.539942  10.980536  \n1       6.344030  0.000000e+00 -5.078984  9.433556  10.707797  \n2       6.317258 -1.425500e-03 -4.810986  9.301626  10.473833  \n3       6.246803 -7.623297e-19 -4.448654  9.288761  10.308406  \n4       6.219141  3.485759e-03 -4.109660  9.396701  10.258342  \n...          ...           ...       ...       ...        ...  \n280315  5.987815  0.000000e+00  2.682430 -0.612226   2.774608  \n280316  5.711979  8.224577e-03  2.946498 -0.379447   3.007768  \n280317  5.737721  0.000000e+00  3.167307 -0.073829   3.218369  \n280318  5.867768 -2.223821e-03  3.357581  0.190312   3.400280  \n280319  5.860243  0.000000e+00  3.534088  0.291009   3.565589  \n\n[280320 rows x 9 columns]",
      "text/html": "<div>\n<style scoped>\n    .dataframe tbody tr th:only-of-type {\n        vertical-align: middle;\n    }\n\n    .dataframe tbody tr th {\n        vertical-align: top;\n    }\n\n    .dataframe thead th {\n        text-align: right;\n    }\n</style>\n<table border=\"1\" class=\"dataframe\">\n  <thead>\n    <tr style=\"text-align: right;\">\n      <th></th>\n      <th>perimetre_prod</th>\n      <th>date_cible</th>\n      <th>date_lancement</th>\n      <th>tcc</th>\n      <th>t2m</th>\n      <th>ssrd</th>\n      <th>u100</th>\n      <th>v100</th>\n      <th>ff100</th>\n    </tr>\n  </thead>\n  <tbody>\n    <tr>\n      <th>0</th>\n      <td>A.COM</td>\n      <td>2016-01-02 00:00:00</td>\n      <td>2016-01-01 12:00:00</td>\n      <td>1.000000</td>\n      <td>6.325450</td>\n      <td>2.216240e-03</td>\n      <td>-5.435037</td>\n      <td>9.539942</td>\n      <td>10.980536</td>\n    </tr>\n    <tr>\n      <th>1</th>\n      <td>A.COM</td>\n      <td>2016-01-02 00:30:00</td>\n      <td>2016-01-01 12:00:00</td>\n      <td>0.999551</td>\n      <td>6.344030</td>\n      <td>0.000000e+00</td>\n      <td>-5.078984</td>\n      <td>9.433556</td>\n      <td>10.707797</td>\n    </tr>\n    <tr>\n      <th>2</th>\n      <td>A.COM</td>\n      <td>2016-01-02 01:00:00</td>\n      <td>2016-01-01 12:00:00</td>\n      <td>1.000000</td>\n      <td>6.317258</td>\n      <td>-1.425500e-03</td>\n      <td>-4.810986</td>\n      <td>9.301626</td>\n      <td>10.473833</td>\n    </tr>\n    <tr>\n      <th>3</th>\n      <td>A.COM</td>\n      <td>2016-01-02 01:30:00</td>\n      <td>2016-01-01 12:00:00</td>\n      <td>1.000689</td>\n      <td>6.246803</td>\n      <td>-7.623297e-19</td>\n      <td>-4.448654</td>\n      <td>9.288761</td>\n      <td>10.308406</td>\n    </tr>\n    <tr>\n      <th>4</th>\n      <td>A.COM</td>\n      <td>2016-01-02 02:00:00</td>\n      <td>2016-01-01 12:00:00</td>\n      <td>1.000000</td>\n      <td>6.219141</td>\n      <td>3.485759e-03</td>\n      <td>-4.109660</td>\n      <td>9.396701</td>\n      <td>10.258342</td>\n    </tr>\n    <tr>\n      <th>...</th>\n      <td>...</td>\n      <td>...</td>\n      <td>...</td>\n      <td>...</td>\n      <td>...</td>\n      <td>...</td>\n      <td>...</td>\n      <td>...</td>\n      <td>...</td>\n    </tr>\n    <tr>\n      <th>280315</th>\n      <td>ONDES</td>\n      <td>2019-12-31 21:30:00</td>\n      <td>2019-12-30 12:00:00</td>\n      <td>0.589047</td>\n      <td>5.987815</td>\n      <td>0.000000e+00</td>\n      <td>2.682430</td>\n      <td>-0.612226</td>\n      <td>2.774608</td>\n    </tr>\n    <tr>\n      <th>280316</th>\n      <td>ONDES</td>\n      <td>2019-12-31 22:00:00</td>\n      <td>2019-12-30 12:00:00</td>\n      <td>0.623447</td>\n      <td>5.711979</td>\n      <td>8.224577e-03</td>\n      <td>2.946498</td>\n      <td>-0.379447</td>\n      <td>3.007768</td>\n    </tr>\n    <tr>\n      <th>280317</th>\n      <td>ONDES</td>\n      <td>2019-12-31 22:30:00</td>\n      <td>2019-12-30 12:00:00</td>\n      <td>0.679307</td>\n      <td>5.737721</td>\n      <td>0.000000e+00</td>\n      <td>3.167307</td>\n      <td>-0.073829</td>\n      <td>3.218369</td>\n    </tr>\n    <tr>\n      <th>280318</th>\n      <td>ONDES</td>\n      <td>2019-12-31 23:00:00</td>\n      <td>2019-12-30 12:00:00</td>\n      <td>0.730482</td>\n      <td>5.867768</td>\n      <td>-2.223821e-03</td>\n      <td>3.357581</td>\n      <td>0.190312</td>\n      <td>3.400280</td>\n    </tr>\n    <tr>\n      <th>280319</th>\n      <td>ONDES</td>\n      <td>2019-12-31 23:30:00</td>\n      <td>2019-12-30 12:00:00</td>\n      <td>0.757037</td>\n      <td>5.860243</td>\n      <td>0.000000e+00</td>\n      <td>3.534088</td>\n      <td>0.291009</td>\n      <td>3.565589</td>\n    </tr>\n  </tbody>\n</table>\n<p>280320 rows × 9 columns</p>\n</div>"
     },
     "execution_count": 10,
     "metadata": {},
     "output_type": "execute_result"
    }
   ],
   "source": [
    "valid_local_meteo_df = preprocess_meteo(meteo_locale_ecmwf)\n",
    "valid_local_meteo_df"
   ],
   "metadata": {
    "collapsed": false,
    "pycharm": {
     "name": "#%%\n"
    }
   }
  },
  {
   "cell_type": "markdown",
   "source": [
    "## Météo France"
   ],
   "metadata": {
    "collapsed": false
   }
  },
  {
   "cell_type": "code",
   "execution_count": 11,
   "outputs": [
    {
     "name": "stdout",
     "output_type": "stream",
     "text": [
      "<class 'pandas.core.frame.DataFrame'>\n",
      "RangeIndex: 1655368 entries, 0 to 1655367\n",
      "Data columns (total 6 columns):\n",
      " #   Column          Non-Null Count    Dtype         \n",
      "---  ------          --------------    -----         \n",
      " 0   date_lancement  1655368 non-null  datetime64[ns]\n",
      " 1   zone            1655368 non-null  object        \n",
      " 2   date_cible      1655368 non-null  datetime64[ns]\n",
      " 3   t2m             1655368 non-null  float64       \n",
      " 4   neb             1655368 non-null  float64       \n",
      " 5   echeance        1655368 non-null  float64       \n",
      "dtypes: datetime64[ns](2), float64(3), object(1)\n",
      "memory usage: 75.8+ MB\n"
     ]
    }
   ],
   "source": [
    "meteo_ce_nebtemp_mf = pyreadr.read_r('meteo_ce_nebtemp_station_meteofrance.RDS')[None]\n",
    "meteo_ce_nebtemp_mf.info()"
   ],
   "metadata": {
    "collapsed": false,
    "pycharm": {
     "name": "#%%\n"
    }
   }
  },
  {
   "cell_type": "code",
   "execution_count": 12,
   "outputs": [
    {
     "name": "stdout",
     "output_type": "stream",
     "text": [
      "<class 'pandas.core.frame.DataFrame'>\n",
      "RangeIndex: 1403600 entries, 0 to 1403599\n",
      "Data columns (total 7 columns):\n",
      " #   Column          Non-Null Count    Dtype         \n",
      "---  ------          --------------    -----         \n",
      " 0   date_lancement  1403600 non-null  datetime64[ns]\n",
      " 1   zone            1403600 non-null  object        \n",
      " 2   date_cible      1403600 non-null  datetime64[ns]\n",
      " 3   u100            1403600 non-null  float64       \n",
      " 4   v100            1403600 non-null  float64       \n",
      " 5   ff100           1403600 non-null  float64       \n",
      " 6   echeance        1403600 non-null  float64       \n",
      "dtypes: datetime64[ns](2), float64(4), object(1)\n",
      "memory usage: 75.0+ MB\n"
     ]
    }
   ],
   "source": [
    "meteo_ce_vent_mf = pyreadr.read_r('meteo_ce_vent_grille_meteofrance.RDS')[None]\n",
    "meteo_ce_vent_mf.info()"
   ],
   "metadata": {
    "collapsed": false,
    "pycharm": {
     "name": "#%%\n"
    }
   }
  },
  {
   "cell_type": "code",
   "execution_count": 13,
   "outputs": [
    {
     "name": "stdout",
     "output_type": "stream",
     "text": [
      "<class 'pandas.core.frame.DataFrame'>\n",
      "RangeIndex: 701800 entries, 0 to 701799\n",
      "Data columns (total 7 columns):\n",
      " #   Column          Non-Null Count   Dtype         \n",
      "---  ------          --------------   -----         \n",
      " 0   date_lancement  701800 non-null  datetime64[ns]\n",
      " 1   perimetre_prod  701800 non-null  object        \n",
      " 2   date_cible      701800 non-null  datetime64[ns]\n",
      " 3   u100            701800 non-null  float64       \n",
      " 4   v100            701800 non-null  float64       \n",
      " 5   ff100           701800 non-null  float64       \n",
      " 6   echeance        701800 non-null  float64       \n",
      "dtypes: datetime64[ns](2), float64(4), object(1)\n",
      "memory usage: 37.5+ MB\n"
     ]
    }
   ],
   "source": [
    "meteo_locale_vent_mf = pyreadr.read_r('meteo_locale_vent_grille_meteofrance.RDS')[None]\n",
    "meteo_locale_vent_mf.info()\n"
   ],
   "metadata": {
    "collapsed": false,
    "pycharm": {
     "name": "#%%\n"
    }
   }
  },
  {
   "cell_type": "markdown",
   "source": [
    "### Modèles nationaux\n",
    "\n"
   ],
   "metadata": {
    "collapsed": false,
    "pycharm": {
     "name": "#%% md\n"
    }
   }
  },
  {
   "cell_type": "code",
   "execution_count": 14,
   "outputs": [
    {
     "data": {
      "text/plain": "                        ff100                                             \\\nperimetre_prod            SEE       SENE       SENP        SEO     SERAA   \ndate_cible                                                                 \n2016-01-02 00:00:00  8.319350  10.547959  11.542937  12.586564  9.531615   \n2016-01-02 00:30:00  8.315284  10.298050  11.492712  12.766400  9.269736   \n2016-01-02 01:00:00  8.305242  10.068043  11.498800  12.839232  8.954929   \n2016-01-02 01:30:00  8.263552   9.882176  11.579808  12.779465  8.677415   \n2016-01-02 02:00:00  8.184601   9.719266  11.704983  12.658765  8.412503   \n...                       ...        ...        ...        ...       ...   \n2019-12-31 21:30:00  5.537229   6.661943   5.350142   4.503309  2.484249   \n2019-12-31 22:00:00  5.463723   6.592759   5.380939   4.620322  2.551837   \n2019-12-31 22:30:00  5.368219   6.513374   5.334357   4.868887  2.595616   \n2019-12-31 23:00:00  5.241389   6.447391   5.262606   5.069467  2.590055   \n2019-12-31 23:30:00  5.092690   6.414585   5.224680   5.056874  2.530966   \n\n                                              neb                      ...  \\\nperimetre_prod           SESE      SESO       SEE      SENE      SENP  ...   \ndate_cible                                                             ...   \n2016-01-02 00:00:00  7.934719  6.646562  0.992722  1.000000  0.871739  ...   \n2016-01-02 00:30:00  7.905147  6.145116  0.987574  1.000897  0.860362  ...   \n2016-01-02 01:00:00  7.881863  5.591630  0.983167  0.999996  0.857950  ...   \n2016-01-02 01:30:00  7.902884  5.094342  0.985177  0.999916  0.843299  ...   \n2016-01-02 02:00:00  7.773933  4.709320  0.991122  1.000000  0.825116  ...   \n...                       ...       ...       ...       ...       ...  ...   \n2019-12-31 21:30:00  2.509494  4.805918  0.281775  0.128306  0.755680  ...   \n2019-12-31 22:00:00  2.692023  4.870547  0.255661  0.129463  0.749536  ...   \n2019-12-31 22:30:00  2.832131  5.035606  0.243020  0.071725  0.757069  ...   \n2019-12-31 23:00:00  2.909110  5.275643  0.242331  0.035451  0.763265  ...   \n2019-12-31 23:30:00  2.921020  5.533912  0.247831  0.086632  0.753688  ...   \n\n                         u100                          v100            \\\nperimetre_prod          SERAA      SESE      SESO       SEE      SENE   \ndate_cible                                                              \n2016-01-02 00:00:00 -0.996641 -3.069270 -3.742904  6.949960  8.418881   \n2016-01-02 00:30:00 -0.709314 -3.306466 -2.923560  7.174743  8.426196   \n2016-01-02 01:00:00 -0.380325 -3.616906 -1.996707  7.339470  8.461914   \n2016-01-02 01:30:00 -0.120087 -3.800409 -0.955150  7.445176  8.532849   \n2016-01-02 02:00:00  0.052006 -3.770372 -0.099607  7.482870  8.610320   \n...                       ...       ...       ...       ...       ...   \n2019-12-31 21:30:00  0.736390 -0.234154  3.768888  1.437880  4.069895   \n2019-12-31 22:00:00  0.936919 -0.394858  3.830146  1.433428  4.333019   \n2019-12-31 22:30:00  1.132665 -0.640280  3.953453  1.480148  4.427826   \n2019-12-31 23:00:00  1.303951 -0.792954  4.106719  1.574605  4.441036   \n2019-12-31 23:30:00  1.435879 -0.710795  4.240081  1.706246  4.469962   \n\n                                                                         \nperimetre_prod            SENP        SEO     SERAA      SESE      SESO  \ndate_cible                                                               \n2016-01-02 00:00:00  10.842495  11.107833  8.983609  5.861311  2.381508  \n2016-01-02 00:30:00  10.921941  11.009990  8.713750  5.673314  1.941363  \n2016-01-02 01:00:00  11.053367  10.756720  8.429033  5.586181  1.346287  \n2016-01-02 01:30:00  11.235311  10.373602  8.228635  5.647702  0.684354  \n2016-01-02 02:00:00  11.427813   9.944114  8.040371  5.589341  0.305117  \n...                        ...        ...       ...       ...       ...  \n2019-12-31 21:30:00   4.448746   4.108127 -0.565819 -2.361213 -2.261000  \n2019-12-31 22:00:00   4.555737   4.076441 -0.241374 -2.542925 -2.312492  \n2019-12-31 22:30:00   4.639371   4.051164  0.042446 -2.664343 -2.420645  \n2019-12-31 23:00:00   4.709518   4.061788  0.207081 -2.724843 -2.573396  \n2019-12-31 23:30:00   4.790085   4.131412  0.192787 -2.737796 -2.746086  \n\n[70080 rows x 42 columns]",
      "text/html": "<div>\n<style scoped>\n    .dataframe tbody tr th:only-of-type {\n        vertical-align: middle;\n    }\n\n    .dataframe tbody tr th {\n        vertical-align: top;\n    }\n\n    .dataframe thead tr th {\n        text-align: left;\n    }\n\n    .dataframe thead tr:last-of-type th {\n        text-align: right;\n    }\n</style>\n<table border=\"1\" class=\"dataframe\">\n  <thead>\n    <tr>\n      <th></th>\n      <th colspan=\"7\" halign=\"left\">ff100</th>\n      <th colspan=\"3\" halign=\"left\">neb</th>\n      <th>...</th>\n      <th colspan=\"3\" halign=\"left\">u100</th>\n      <th colspan=\"7\" halign=\"left\">v100</th>\n    </tr>\n    <tr>\n      <th>perimetre_prod</th>\n      <th>SEE</th>\n      <th>SENE</th>\n      <th>SENP</th>\n      <th>SEO</th>\n      <th>SERAA</th>\n      <th>SESE</th>\n      <th>SESO</th>\n      <th>SEE</th>\n      <th>SENE</th>\n      <th>SENP</th>\n      <th>...</th>\n      <th>SERAA</th>\n      <th>SESE</th>\n      <th>SESO</th>\n      <th>SEE</th>\n      <th>SENE</th>\n      <th>SENP</th>\n      <th>SEO</th>\n      <th>SERAA</th>\n      <th>SESE</th>\n      <th>SESO</th>\n    </tr>\n    <tr>\n      <th>date_cible</th>\n      <th></th>\n      <th></th>\n      <th></th>\n      <th></th>\n      <th></th>\n      <th></th>\n      <th></th>\n      <th></th>\n      <th></th>\n      <th></th>\n      <th></th>\n      <th></th>\n      <th></th>\n      <th></th>\n      <th></th>\n      <th></th>\n      <th></th>\n      <th></th>\n      <th></th>\n      <th></th>\n      <th></th>\n    </tr>\n  </thead>\n  <tbody>\n    <tr>\n      <th>2016-01-02 00:00:00</th>\n      <td>8.319350</td>\n      <td>10.547959</td>\n      <td>11.542937</td>\n      <td>12.586564</td>\n      <td>9.531615</td>\n      <td>7.934719</td>\n      <td>6.646562</td>\n      <td>0.992722</td>\n      <td>1.000000</td>\n      <td>0.871739</td>\n      <td>...</td>\n      <td>-0.996641</td>\n      <td>-3.069270</td>\n      <td>-3.742904</td>\n      <td>6.949960</td>\n      <td>8.418881</td>\n      <td>10.842495</td>\n      <td>11.107833</td>\n      <td>8.983609</td>\n      <td>5.861311</td>\n      <td>2.381508</td>\n    </tr>\n    <tr>\n      <th>2016-01-02 00:30:00</th>\n      <td>8.315284</td>\n      <td>10.298050</td>\n      <td>11.492712</td>\n      <td>12.766400</td>\n      <td>9.269736</td>\n      <td>7.905147</td>\n      <td>6.145116</td>\n      <td>0.987574</td>\n      <td>1.000897</td>\n      <td>0.860362</td>\n      <td>...</td>\n      <td>-0.709314</td>\n      <td>-3.306466</td>\n      <td>-2.923560</td>\n      <td>7.174743</td>\n      <td>8.426196</td>\n      <td>10.921941</td>\n      <td>11.009990</td>\n      <td>8.713750</td>\n      <td>5.673314</td>\n      <td>1.941363</td>\n    </tr>\n    <tr>\n      <th>2016-01-02 01:00:00</th>\n      <td>8.305242</td>\n      <td>10.068043</td>\n      <td>11.498800</td>\n      <td>12.839232</td>\n      <td>8.954929</td>\n      <td>7.881863</td>\n      <td>5.591630</td>\n      <td>0.983167</td>\n      <td>0.999996</td>\n      <td>0.857950</td>\n      <td>...</td>\n      <td>-0.380325</td>\n      <td>-3.616906</td>\n      <td>-1.996707</td>\n      <td>7.339470</td>\n      <td>8.461914</td>\n      <td>11.053367</td>\n      <td>10.756720</td>\n      <td>8.429033</td>\n      <td>5.586181</td>\n      <td>1.346287</td>\n    </tr>\n    <tr>\n      <th>2016-01-02 01:30:00</th>\n      <td>8.263552</td>\n      <td>9.882176</td>\n      <td>11.579808</td>\n      <td>12.779465</td>\n      <td>8.677415</td>\n      <td>7.902884</td>\n      <td>5.094342</td>\n      <td>0.985177</td>\n      <td>0.999916</td>\n      <td>0.843299</td>\n      <td>...</td>\n      <td>-0.120087</td>\n      <td>-3.800409</td>\n      <td>-0.955150</td>\n      <td>7.445176</td>\n      <td>8.532849</td>\n      <td>11.235311</td>\n      <td>10.373602</td>\n      <td>8.228635</td>\n      <td>5.647702</td>\n      <td>0.684354</td>\n    </tr>\n    <tr>\n      <th>2016-01-02 02:00:00</th>\n      <td>8.184601</td>\n      <td>9.719266</td>\n      <td>11.704983</td>\n      <td>12.658765</td>\n      <td>8.412503</td>\n      <td>7.773933</td>\n      <td>4.709320</td>\n      <td>0.991122</td>\n      <td>1.000000</td>\n      <td>0.825116</td>\n      <td>...</td>\n      <td>0.052006</td>\n      <td>-3.770372</td>\n      <td>-0.099607</td>\n      <td>7.482870</td>\n      <td>8.610320</td>\n      <td>11.427813</td>\n      <td>9.944114</td>\n      <td>8.040371</td>\n      <td>5.589341</td>\n      <td>0.305117</td>\n    </tr>\n    <tr>\n      <th>...</th>\n      <td>...</td>\n      <td>...</td>\n      <td>...</td>\n      <td>...</td>\n      <td>...</td>\n      <td>...</td>\n      <td>...</td>\n      <td>...</td>\n      <td>...</td>\n      <td>...</td>\n      <td>...</td>\n      <td>...</td>\n      <td>...</td>\n      <td>...</td>\n      <td>...</td>\n      <td>...</td>\n      <td>...</td>\n      <td>...</td>\n      <td>...</td>\n      <td>...</td>\n      <td>...</td>\n    </tr>\n    <tr>\n      <th>2019-12-31 21:30:00</th>\n      <td>5.537229</td>\n      <td>6.661943</td>\n      <td>5.350142</td>\n      <td>4.503309</td>\n      <td>2.484249</td>\n      <td>2.509494</td>\n      <td>4.805918</td>\n      <td>0.281775</td>\n      <td>0.128306</td>\n      <td>0.755680</td>\n      <td>...</td>\n      <td>0.736390</td>\n      <td>-0.234154</td>\n      <td>3.768888</td>\n      <td>1.437880</td>\n      <td>4.069895</td>\n      <td>4.448746</td>\n      <td>4.108127</td>\n      <td>-0.565819</td>\n      <td>-2.361213</td>\n      <td>-2.261000</td>\n    </tr>\n    <tr>\n      <th>2019-12-31 22:00:00</th>\n      <td>5.463723</td>\n      <td>6.592759</td>\n      <td>5.380939</td>\n      <td>4.620322</td>\n      <td>2.551837</td>\n      <td>2.692023</td>\n      <td>4.870547</td>\n      <td>0.255661</td>\n      <td>0.129463</td>\n      <td>0.749536</td>\n      <td>...</td>\n      <td>0.936919</td>\n      <td>-0.394858</td>\n      <td>3.830146</td>\n      <td>1.433428</td>\n      <td>4.333019</td>\n      <td>4.555737</td>\n      <td>4.076441</td>\n      <td>-0.241374</td>\n      <td>-2.542925</td>\n      <td>-2.312492</td>\n    </tr>\n    <tr>\n      <th>2019-12-31 22:30:00</th>\n      <td>5.368219</td>\n      <td>6.513374</td>\n      <td>5.334357</td>\n      <td>4.868887</td>\n      <td>2.595616</td>\n      <td>2.832131</td>\n      <td>5.035606</td>\n      <td>0.243020</td>\n      <td>0.071725</td>\n      <td>0.757069</td>\n      <td>...</td>\n      <td>1.132665</td>\n      <td>-0.640280</td>\n      <td>3.953453</td>\n      <td>1.480148</td>\n      <td>4.427826</td>\n      <td>4.639371</td>\n      <td>4.051164</td>\n      <td>0.042446</td>\n      <td>-2.664343</td>\n      <td>-2.420645</td>\n    </tr>\n    <tr>\n      <th>2019-12-31 23:00:00</th>\n      <td>5.241389</td>\n      <td>6.447391</td>\n      <td>5.262606</td>\n      <td>5.069467</td>\n      <td>2.590055</td>\n      <td>2.909110</td>\n      <td>5.275643</td>\n      <td>0.242331</td>\n      <td>0.035451</td>\n      <td>0.763265</td>\n      <td>...</td>\n      <td>1.303951</td>\n      <td>-0.792954</td>\n      <td>4.106719</td>\n      <td>1.574605</td>\n      <td>4.441036</td>\n      <td>4.709518</td>\n      <td>4.061788</td>\n      <td>0.207081</td>\n      <td>-2.724843</td>\n      <td>-2.573396</td>\n    </tr>\n    <tr>\n      <th>2019-12-31 23:30:00</th>\n      <td>5.092690</td>\n      <td>6.414585</td>\n      <td>5.224680</td>\n      <td>5.056874</td>\n      <td>2.530966</td>\n      <td>2.921020</td>\n      <td>5.533912</td>\n      <td>0.247831</td>\n      <td>0.086632</td>\n      <td>0.753688</td>\n      <td>...</td>\n      <td>1.435879</td>\n      <td>-0.710795</td>\n      <td>4.240081</td>\n      <td>1.706246</td>\n      <td>4.469962</td>\n      <td>4.790085</td>\n      <td>4.131412</td>\n      <td>0.192787</td>\n      <td>-2.737796</td>\n      <td>-2.746086</td>\n    </tr>\n  </tbody>\n</table>\n<p>70080 rows × 42 columns</p>\n</div>"
     },
     "execution_count": 14,
     "metadata": {},
     "output_type": "execute_result"
    }
   ],
   "source": [
    "valid_meteo_df = valid_ce_meteo_df[valid_ce_meteo_df.perimetre_prod !='France'] # Remove france-level meteo\n",
    "valid_meteo_df = valid_meteo_df.pivot_table(index=['date_cible'],columns='perimetre_prod')\n",
    "valid_meteo_df"
   ],
   "metadata": {
    "collapsed": false,
    "pycharm": {
     "name": "#%%\n"
    }
   }
  },
  {
   "cell_type": "code",
   "execution_count": 15,
   "outputs": [
    {
     "name": "stderr",
     "output_type": "stream",
     "text": [
      "/home/rozierale/.miniconda3/envs/origami/lib/python3.7/site-packages/pandas/core/frame.py:9199: FutureWarning: merging between different levels is deprecated and will be removed in a future version. (1 levels on the left,2 on the right)\n",
      "  validate=validate,\n"
     ]
    },
    {
     "data": {
      "text/plain": "                date_cible perimetre_prod type_prod  comptage  \\\n0      2016-01-02 00:00:00       national        pv       0.0   \n1      2016-01-02 00:00:00       national    eolien    5543.0   \n2      2016-01-02 00:30:00       national        pv       0.0   \n3      2016-01-02 00:30:00       national    eolien    5335.0   \n4      2016-01-02 01:00:00       national        pv       0.0   \n...                    ...            ...       ...       ...   \n140143 2019-12-31 22:30:00       national    eolien       NaN   \n140144 2019-12-31 23:00:00       national        pv       NaN   \n140145 2019-12-31 23:00:00       national    eolien       NaN   \n140146 2019-12-31 23:30:00       national        pv       NaN   \n140147 2019-12-31 23:30:00       national    eolien       NaN   \n\n        puissance_installee        FC  time_in_day  (ff100, SEE)  \\\n0                    6006.0  0.000000     0.000000      8.319350   \n1                   10201.0  0.543378     0.000000      8.319350   \n2                    6006.0  0.000000     0.020833      8.315284   \n3                   10201.0  0.522988     0.020833      8.315284   \n4                    6006.0  0.000000     0.041667      8.305242   \n...                     ...       ...          ...           ...   \n140143              16035.0       NaN     0.937500      5.368219   \n140144               9258.0       NaN     0.958333      5.241389   \n140145              16035.0       NaN     0.958333      5.241389   \n140146               9258.0       NaN     0.979167      5.092690   \n140147              16035.0       NaN     0.979167      5.092690   \n\n        (ff100, SENE)  (ff100, SENP)  ...  (u100, SERAA)  (u100, SESE)  \\\n0           10.547959      11.542937  ...      -0.996641     -3.069270   \n1           10.547959      11.542937  ...      -0.996641     -3.069270   \n2           10.298050      11.492712  ...      -0.709314     -3.306466   \n3           10.298050      11.492712  ...      -0.709314     -3.306466   \n4           10.068043      11.498800  ...      -0.380325     -3.616906   \n...               ...            ...  ...            ...           ...   \n140143       6.513374       5.334357  ...       1.132665     -0.640280   \n140144       6.447391       5.262606  ...       1.303951     -0.792954   \n140145       6.447391       5.262606  ...       1.303951     -0.792954   \n140146       6.414585       5.224680  ...       1.435879     -0.710795   \n140147       6.414585       5.224680  ...       1.435879     -0.710795   \n\n        (u100, SESO)  (v100, SEE)  (v100, SENE)  (v100, SENP)  (v100, SEO)  \\\n0          -3.742904     6.949960      8.418881     10.842495    11.107833   \n1          -3.742904     6.949960      8.418881     10.842495    11.107833   \n2          -2.923560     7.174743      8.426196     10.921941    11.009990   \n3          -2.923560     7.174743      8.426196     10.921941    11.009990   \n4          -1.996707     7.339470      8.461914     11.053367    10.756720   \n...              ...          ...           ...           ...          ...   \n140143      3.953453     1.480148      4.427826      4.639371     4.051164   \n140144      4.106719     1.574605      4.441036      4.709518     4.061788   \n140145      4.106719     1.574605      4.441036      4.709518     4.061788   \n140146      4.240081     1.706246      4.469962      4.790085     4.131412   \n140147      4.240081     1.706246      4.469962      4.790085     4.131412   \n\n        (v100, SERAA)  (v100, SESE)  (v100, SESO)  \n0            8.983609      5.861311      2.381508  \n1            8.983609      5.861311      2.381508  \n2            8.713750      5.673314      1.941363  \n3            8.713750      5.673314      1.941363  \n4            8.429033      5.586181      1.346287  \n...               ...           ...           ...  \n140143       0.042446     -2.664343     -2.420645  \n140144       0.207081     -2.724843     -2.573396  \n140145       0.207081     -2.724843     -2.573396  \n140146       0.192787     -2.737796     -2.746086  \n140147       0.192787     -2.737796     -2.746086  \n\n[140148 rows x 49 columns]",
      "text/html": "<div>\n<style scoped>\n    .dataframe tbody tr th:only-of-type {\n        vertical-align: middle;\n    }\n\n    .dataframe tbody tr th {\n        vertical-align: top;\n    }\n\n    .dataframe thead th {\n        text-align: right;\n    }\n</style>\n<table border=\"1\" class=\"dataframe\">\n  <thead>\n    <tr style=\"text-align: right;\">\n      <th></th>\n      <th>date_cible</th>\n      <th>perimetre_prod</th>\n      <th>type_prod</th>\n      <th>comptage</th>\n      <th>puissance_installee</th>\n      <th>FC</th>\n      <th>time_in_day</th>\n      <th>(ff100, SEE)</th>\n      <th>(ff100, SENE)</th>\n      <th>(ff100, SENP)</th>\n      <th>...</th>\n      <th>(u100, SERAA)</th>\n      <th>(u100, SESE)</th>\n      <th>(u100, SESO)</th>\n      <th>(v100, SEE)</th>\n      <th>(v100, SENE)</th>\n      <th>(v100, SENP)</th>\n      <th>(v100, SEO)</th>\n      <th>(v100, SERAA)</th>\n      <th>(v100, SESE)</th>\n      <th>(v100, SESO)</th>\n    </tr>\n  </thead>\n  <tbody>\n    <tr>\n      <th>0</th>\n      <td>2016-01-02 00:00:00</td>\n      <td>national</td>\n      <td>pv</td>\n      <td>0.0</td>\n      <td>6006.0</td>\n      <td>0.000000</td>\n      <td>0.000000</td>\n      <td>8.319350</td>\n      <td>10.547959</td>\n      <td>11.542937</td>\n      <td>...</td>\n      <td>-0.996641</td>\n      <td>-3.069270</td>\n      <td>-3.742904</td>\n      <td>6.949960</td>\n      <td>8.418881</td>\n      <td>10.842495</td>\n      <td>11.107833</td>\n      <td>8.983609</td>\n      <td>5.861311</td>\n      <td>2.381508</td>\n    </tr>\n    <tr>\n      <th>1</th>\n      <td>2016-01-02 00:00:00</td>\n      <td>national</td>\n      <td>eolien</td>\n      <td>5543.0</td>\n      <td>10201.0</td>\n      <td>0.543378</td>\n      <td>0.000000</td>\n      <td>8.319350</td>\n      <td>10.547959</td>\n      <td>11.542937</td>\n      <td>...</td>\n      <td>-0.996641</td>\n      <td>-3.069270</td>\n      <td>-3.742904</td>\n      <td>6.949960</td>\n      <td>8.418881</td>\n      <td>10.842495</td>\n      <td>11.107833</td>\n      <td>8.983609</td>\n      <td>5.861311</td>\n      <td>2.381508</td>\n    </tr>\n    <tr>\n      <th>2</th>\n      <td>2016-01-02 00:30:00</td>\n      <td>national</td>\n      <td>pv</td>\n      <td>0.0</td>\n      <td>6006.0</td>\n      <td>0.000000</td>\n      <td>0.020833</td>\n      <td>8.315284</td>\n      <td>10.298050</td>\n      <td>11.492712</td>\n      <td>...</td>\n      <td>-0.709314</td>\n      <td>-3.306466</td>\n      <td>-2.923560</td>\n      <td>7.174743</td>\n      <td>8.426196</td>\n      <td>10.921941</td>\n      <td>11.009990</td>\n      <td>8.713750</td>\n      <td>5.673314</td>\n      <td>1.941363</td>\n    </tr>\n    <tr>\n      <th>3</th>\n      <td>2016-01-02 00:30:00</td>\n      <td>national</td>\n      <td>eolien</td>\n      <td>5335.0</td>\n      <td>10201.0</td>\n      <td>0.522988</td>\n      <td>0.020833</td>\n      <td>8.315284</td>\n      <td>10.298050</td>\n      <td>11.492712</td>\n      <td>...</td>\n      <td>-0.709314</td>\n      <td>-3.306466</td>\n      <td>-2.923560</td>\n      <td>7.174743</td>\n      <td>8.426196</td>\n      <td>10.921941</td>\n      <td>11.009990</td>\n      <td>8.713750</td>\n      <td>5.673314</td>\n      <td>1.941363</td>\n    </tr>\n    <tr>\n      <th>4</th>\n      <td>2016-01-02 01:00:00</td>\n      <td>national</td>\n      <td>pv</td>\n      <td>0.0</td>\n      <td>6006.0</td>\n      <td>0.000000</td>\n      <td>0.041667</td>\n      <td>8.305242</td>\n      <td>10.068043</td>\n      <td>11.498800</td>\n      <td>...</td>\n      <td>-0.380325</td>\n      <td>-3.616906</td>\n      <td>-1.996707</td>\n      <td>7.339470</td>\n      <td>8.461914</td>\n      <td>11.053367</td>\n      <td>10.756720</td>\n      <td>8.429033</td>\n      <td>5.586181</td>\n      <td>1.346287</td>\n    </tr>\n    <tr>\n      <th>...</th>\n      <td>...</td>\n      <td>...</td>\n      <td>...</td>\n      <td>...</td>\n      <td>...</td>\n      <td>...</td>\n      <td>...</td>\n      <td>...</td>\n      <td>...</td>\n      <td>...</td>\n      <td>...</td>\n      <td>...</td>\n      <td>...</td>\n      <td>...</td>\n      <td>...</td>\n      <td>...</td>\n      <td>...</td>\n      <td>...</td>\n      <td>...</td>\n      <td>...</td>\n      <td>...</td>\n    </tr>\n    <tr>\n      <th>140143</th>\n      <td>2019-12-31 22:30:00</td>\n      <td>national</td>\n      <td>eolien</td>\n      <td>NaN</td>\n      <td>16035.0</td>\n      <td>NaN</td>\n      <td>0.937500</td>\n      <td>5.368219</td>\n      <td>6.513374</td>\n      <td>5.334357</td>\n      <td>...</td>\n      <td>1.132665</td>\n      <td>-0.640280</td>\n      <td>3.953453</td>\n      <td>1.480148</td>\n      <td>4.427826</td>\n      <td>4.639371</td>\n      <td>4.051164</td>\n      <td>0.042446</td>\n      <td>-2.664343</td>\n      <td>-2.420645</td>\n    </tr>\n    <tr>\n      <th>140144</th>\n      <td>2019-12-31 23:00:00</td>\n      <td>national</td>\n      <td>pv</td>\n      <td>NaN</td>\n      <td>9258.0</td>\n      <td>NaN</td>\n      <td>0.958333</td>\n      <td>5.241389</td>\n      <td>6.447391</td>\n      <td>5.262606</td>\n      <td>...</td>\n      <td>1.303951</td>\n      <td>-0.792954</td>\n      <td>4.106719</td>\n      <td>1.574605</td>\n      <td>4.441036</td>\n      <td>4.709518</td>\n      <td>4.061788</td>\n      <td>0.207081</td>\n      <td>-2.724843</td>\n      <td>-2.573396</td>\n    </tr>\n    <tr>\n      <th>140145</th>\n      <td>2019-12-31 23:00:00</td>\n      <td>national</td>\n      <td>eolien</td>\n      <td>NaN</td>\n      <td>16035.0</td>\n      <td>NaN</td>\n      <td>0.958333</td>\n      <td>5.241389</td>\n      <td>6.447391</td>\n      <td>5.262606</td>\n      <td>...</td>\n      <td>1.303951</td>\n      <td>-0.792954</td>\n      <td>4.106719</td>\n      <td>1.574605</td>\n      <td>4.441036</td>\n      <td>4.709518</td>\n      <td>4.061788</td>\n      <td>0.207081</td>\n      <td>-2.724843</td>\n      <td>-2.573396</td>\n    </tr>\n    <tr>\n      <th>140146</th>\n      <td>2019-12-31 23:30:00</td>\n      <td>national</td>\n      <td>pv</td>\n      <td>NaN</td>\n      <td>9258.0</td>\n      <td>NaN</td>\n      <td>0.979167</td>\n      <td>5.092690</td>\n      <td>6.414585</td>\n      <td>5.224680</td>\n      <td>...</td>\n      <td>1.435879</td>\n      <td>-0.710795</td>\n      <td>4.240081</td>\n      <td>1.706246</td>\n      <td>4.469962</td>\n      <td>4.790085</td>\n      <td>4.131412</td>\n      <td>0.192787</td>\n      <td>-2.737796</td>\n      <td>-2.746086</td>\n    </tr>\n    <tr>\n      <th>140147</th>\n      <td>2019-12-31 23:30:00</td>\n      <td>national</td>\n      <td>eolien</td>\n      <td>NaN</td>\n      <td>16035.0</td>\n      <td>NaN</td>\n      <td>0.979167</td>\n      <td>5.092690</td>\n      <td>6.414585</td>\n      <td>5.224680</td>\n      <td>...</td>\n      <td>1.435879</td>\n      <td>-0.710795</td>\n      <td>4.240081</td>\n      <td>1.706246</td>\n      <td>4.469962</td>\n      <td>4.790085</td>\n      <td>4.131412</td>\n      <td>0.192787</td>\n      <td>-2.737796</td>\n      <td>-2.746086</td>\n    </tr>\n  </tbody>\n</table>\n<p>140148 rows × 49 columns</p>\n</div>"
     },
     "execution_count": 15,
     "metadata": {},
     "output_type": "execute_result"
    }
   ],
   "source": [
    "national_df = prod[prod.perimetre_prod=='national'].merge(valid_meteo_df, on='date_cible', how='inner')\n",
    "\n",
    "national_df"
   ],
   "metadata": {
    "collapsed": false,
    "pycharm": {
     "name": "#%%\n"
    }
   }
  },
  {
   "cell_type": "code",
   "execution_count": 16,
   "outputs": [],
   "source": [
    "overall_preds = pd.DataFrame(columns=output_cols)"
   ],
   "metadata": {
    "collapsed": false,
    "pycharm": {
     "name": "#%%\n"
    }
   }
  },
  {
   "cell_type": "markdown",
   "source": [
    "#### National PV & eolien"
   ],
   "metadata": {
    "collapsed": false,
    "pycharm": {
     "name": "#%% md\n"
    }
   }
  },
  {
   "cell_type": "code",
   "execution_count": 17,
   "outputs": [],
   "source": [
    "def df_to_train_test(df):\n",
    "    # TODO center values\n",
    "    df_train = df[df.date_cible.dt.year < 2019]\n",
    "    df_test = df[df.date_cible.dt.year == 2019]\n",
    "    X_train = df_train.drop(columns=['FC','date_cible'])\n",
    "    X_test = df_test.drop(columns=['FC','date_cible'])\n",
    "    y_train = df_train['FC']\n",
    "    y_test = df_test['FC']\n",
    "    return df_train,df_test, X_train, X_test, y_train, y_test\n",
    "def build_term_list(X):\n",
    "    tl = TermList()\n",
    "    for i in range(X.shape[1]):\n",
    "        tl += s(i)\n",
    "    return tl\n",
    "\n",
    "for type_prod in ['pv','eolien']:\n",
    "    _, test_df, X_train, X_test, y_train, _ = df_to_train_test(national_df[national_df.type_prod==type_prod].drop(columns=['perimetre_prod','type_prod','comptage']))\n",
    "    gam = LinearGAM(build_term_list(X_train)).fit(X_train, y_train)\n",
    "    test_df['prev_FC'] =gam.predict(X_test)\n",
    "    test_df['type_prod'] =type_prod\n",
    "    test_df['perimetre_prod'] ='national'\n",
    "    overall_preds = pd.concat([overall_preds,test_df[output_cols]], axis=0)"
   ],
   "metadata": {
    "collapsed": false,
    "pycharm": {
     "name": "#%%\n"
    }
   }
  },
  {
   "cell_type": "markdown",
   "source": [
    "#### Local PV & eolien"
   ],
   "metadata": {
    "collapsed": false,
    "pycharm": {
     "name": "#%% md\n"
    }
   }
  },
  {
   "cell_type": "code",
   "execution_count": 18,
   "outputs": [
    {
     "data": {
      "text/plain": "                date_cible perimetre_prod type_prod   comptage  \\\n0      2016-01-02 00:00:00          A.COM    eolien  63.033333   \n1      2016-01-02 00:00:00          CXSSE    eolien  57.766667   \n2      2016-01-02 00:00:00          HOSTE        pv   0.000000   \n3      2016-01-02 00:00:00          ONDES        pv   0.000000   \n4      2016-01-02 00:30:00          A.COM    eolien  61.566667   \n...                    ...            ...       ...        ...   \n280221 2019-12-31 22:30:00          ONDES        pv        NaN   \n280222 2019-12-31 23:00:00          HOSTE        pv        NaN   \n280223 2019-12-31 23:00:00          ONDES        pv        NaN   \n280224 2019-12-31 23:30:00          HOSTE        pv        NaN   \n280225 2019-12-31 23:30:00          ONDES        pv        NaN   \n\n        puissance_installee        FC  time_in_day      date_lancement  \\\n0                     104.7  0.602038     0.000000 2016-01-01 12:00:00   \n1                      85.8  0.673271     0.000000 2016-01-01 12:00:00   \n2                      54.0  0.000000     0.000000 2016-01-01 12:00:00   \n3                      20.9  0.000000     0.000000 2016-01-01 12:00:00   \n4                     104.7  0.588029     0.020833 2016-01-01 12:00:00   \n...                     ...       ...          ...                 ...   \n280221                 26.8       NaN     0.937500 2019-12-30 12:00:00   \n280222                 54.0       NaN     0.958333 2019-12-30 12:00:00   \n280223                 26.8       NaN     0.958333 2019-12-30 12:00:00   \n280224                 54.0       NaN     0.979167 2019-12-30 12:00:00   \n280225                 26.8       NaN     0.979167 2019-12-30 12:00:00   \n\n             tcc        t2m      ssrd      u100      v100      ff100  \n0       1.000000   6.325450  0.002216 -5.435037  9.539942  10.980536  \n1       0.999763   6.039697  0.000753 -4.723014  6.589204   8.123462  \n2       0.999146   9.673486 -0.002713  4.830697  2.293848   5.401187  \n3       0.998681  10.196870  0.000648 -3.305805  8.543306   9.169785  \n4       0.999551   6.344030  0.000000 -5.078984  9.433556  10.707797  \n...          ...        ...       ...       ...       ...        ...  \n280221  0.679307   5.737721  0.000000  3.167307 -0.073829   3.218369  \n280222  0.845771   8.497054 -0.001417  2.166826  5.074264   5.518028  \n280223  0.730482   5.867768 -0.002224  3.357581  0.190312   3.400280  \n280224  0.917180   8.407278  0.000000  2.244148  4.907121   5.397134  \n280225  0.757037   5.860243  0.000000  3.534088  0.291009   3.565589  \n\n[280226 rows x 14 columns]",
      "text/html": "<div>\n<style scoped>\n    .dataframe tbody tr th:only-of-type {\n        vertical-align: middle;\n    }\n\n    .dataframe tbody tr th {\n        vertical-align: top;\n    }\n\n    .dataframe thead th {\n        text-align: right;\n    }\n</style>\n<table border=\"1\" class=\"dataframe\">\n  <thead>\n    <tr style=\"text-align: right;\">\n      <th></th>\n      <th>date_cible</th>\n      <th>perimetre_prod</th>\n      <th>type_prod</th>\n      <th>comptage</th>\n      <th>puissance_installee</th>\n      <th>FC</th>\n      <th>time_in_day</th>\n      <th>date_lancement</th>\n      <th>tcc</th>\n      <th>t2m</th>\n      <th>ssrd</th>\n      <th>u100</th>\n      <th>v100</th>\n      <th>ff100</th>\n    </tr>\n  </thead>\n  <tbody>\n    <tr>\n      <th>0</th>\n      <td>2016-01-02 00:00:00</td>\n      <td>A.COM</td>\n      <td>eolien</td>\n      <td>63.033333</td>\n      <td>104.7</td>\n      <td>0.602038</td>\n      <td>0.000000</td>\n      <td>2016-01-01 12:00:00</td>\n      <td>1.000000</td>\n      <td>6.325450</td>\n      <td>0.002216</td>\n      <td>-5.435037</td>\n      <td>9.539942</td>\n      <td>10.980536</td>\n    </tr>\n    <tr>\n      <th>1</th>\n      <td>2016-01-02 00:00:00</td>\n      <td>CXSSE</td>\n      <td>eolien</td>\n      <td>57.766667</td>\n      <td>85.8</td>\n      <td>0.673271</td>\n      <td>0.000000</td>\n      <td>2016-01-01 12:00:00</td>\n      <td>0.999763</td>\n      <td>6.039697</td>\n      <td>0.000753</td>\n      <td>-4.723014</td>\n      <td>6.589204</td>\n      <td>8.123462</td>\n    </tr>\n    <tr>\n      <th>2</th>\n      <td>2016-01-02 00:00:00</td>\n      <td>HOSTE</td>\n      <td>pv</td>\n      <td>0.000000</td>\n      <td>54.0</td>\n      <td>0.000000</td>\n      <td>0.000000</td>\n      <td>2016-01-01 12:00:00</td>\n      <td>0.999146</td>\n      <td>9.673486</td>\n      <td>-0.002713</td>\n      <td>4.830697</td>\n      <td>2.293848</td>\n      <td>5.401187</td>\n    </tr>\n    <tr>\n      <th>3</th>\n      <td>2016-01-02 00:00:00</td>\n      <td>ONDES</td>\n      <td>pv</td>\n      <td>0.000000</td>\n      <td>20.9</td>\n      <td>0.000000</td>\n      <td>0.000000</td>\n      <td>2016-01-01 12:00:00</td>\n      <td>0.998681</td>\n      <td>10.196870</td>\n      <td>0.000648</td>\n      <td>-3.305805</td>\n      <td>8.543306</td>\n      <td>9.169785</td>\n    </tr>\n    <tr>\n      <th>4</th>\n      <td>2016-01-02 00:30:00</td>\n      <td>A.COM</td>\n      <td>eolien</td>\n      <td>61.566667</td>\n      <td>104.7</td>\n      <td>0.588029</td>\n      <td>0.020833</td>\n      <td>2016-01-01 12:00:00</td>\n      <td>0.999551</td>\n      <td>6.344030</td>\n      <td>0.000000</td>\n      <td>-5.078984</td>\n      <td>9.433556</td>\n      <td>10.707797</td>\n    </tr>\n    <tr>\n      <th>...</th>\n      <td>...</td>\n      <td>...</td>\n      <td>...</td>\n      <td>...</td>\n      <td>...</td>\n      <td>...</td>\n      <td>...</td>\n      <td>...</td>\n      <td>...</td>\n      <td>...</td>\n      <td>...</td>\n      <td>...</td>\n      <td>...</td>\n      <td>...</td>\n    </tr>\n    <tr>\n      <th>280221</th>\n      <td>2019-12-31 22:30:00</td>\n      <td>ONDES</td>\n      <td>pv</td>\n      <td>NaN</td>\n      <td>26.8</td>\n      <td>NaN</td>\n      <td>0.937500</td>\n      <td>2019-12-30 12:00:00</td>\n      <td>0.679307</td>\n      <td>5.737721</td>\n      <td>0.000000</td>\n      <td>3.167307</td>\n      <td>-0.073829</td>\n      <td>3.218369</td>\n    </tr>\n    <tr>\n      <th>280222</th>\n      <td>2019-12-31 23:00:00</td>\n      <td>HOSTE</td>\n      <td>pv</td>\n      <td>NaN</td>\n      <td>54.0</td>\n      <td>NaN</td>\n      <td>0.958333</td>\n      <td>2019-12-30 12:00:00</td>\n      <td>0.845771</td>\n      <td>8.497054</td>\n      <td>-0.001417</td>\n      <td>2.166826</td>\n      <td>5.074264</td>\n      <td>5.518028</td>\n    </tr>\n    <tr>\n      <th>280223</th>\n      <td>2019-12-31 23:00:00</td>\n      <td>ONDES</td>\n      <td>pv</td>\n      <td>NaN</td>\n      <td>26.8</td>\n      <td>NaN</td>\n      <td>0.958333</td>\n      <td>2019-12-30 12:00:00</td>\n      <td>0.730482</td>\n      <td>5.867768</td>\n      <td>-0.002224</td>\n      <td>3.357581</td>\n      <td>0.190312</td>\n      <td>3.400280</td>\n    </tr>\n    <tr>\n      <th>280224</th>\n      <td>2019-12-31 23:30:00</td>\n      <td>HOSTE</td>\n      <td>pv</td>\n      <td>NaN</td>\n      <td>54.0</td>\n      <td>NaN</td>\n      <td>0.979167</td>\n      <td>2019-12-30 12:00:00</td>\n      <td>0.917180</td>\n      <td>8.407278</td>\n      <td>0.000000</td>\n      <td>2.244148</td>\n      <td>4.907121</td>\n      <td>5.397134</td>\n    </tr>\n    <tr>\n      <th>280225</th>\n      <td>2019-12-31 23:30:00</td>\n      <td>ONDES</td>\n      <td>pv</td>\n      <td>NaN</td>\n      <td>26.8</td>\n      <td>NaN</td>\n      <td>0.979167</td>\n      <td>2019-12-30 12:00:00</td>\n      <td>0.757037</td>\n      <td>5.860243</td>\n      <td>0.000000</td>\n      <td>3.534088</td>\n      <td>0.291009</td>\n      <td>3.565589</td>\n    </tr>\n  </tbody>\n</table>\n<p>280226 rows × 14 columns</p>\n</div>"
     },
     "execution_count": 18,
     "metadata": {},
     "output_type": "execute_result"
    }
   ],
   "source": [
    "local_df = prod[prod.perimetre_prod!='national'].merge(valid_local_meteo_df, on=['date_cible','perimetre_prod'], how='inner')\n",
    "local_df"
   ],
   "metadata": {
    "collapsed": false,
    "pycharm": {
     "name": "#%%\n"
    }
   }
  },
  {
   "cell_type": "code",
   "execution_count": 19,
   "outputs": [],
   "source": [
    "for type_prod in ['pv','eolien']:\n",
    "    _, test_df, X_train, X_test, y_train, _  = df_to_train_test(local_df[local_df.type_prod==type_prod].drop(columns=['perimetre_prod','type_prod','comptage','date_lancement']))\n",
    "    gam = LinearGAM(build_term_list(X_train)).fit(X_train, y_train)\n",
    "    test_df['prev_FC'] =gam.predict(X_test)\n",
    "    test_df['type_prod'] =type_prod\n",
    "    test_df['perimetre_prod'] = local_df[(local_df.type_prod==type_prod) & (local_df.date_cible.dt.year ==2019)].perimetre_prod\n",
    "    overall_preds = pd.concat([overall_preds,test_df[output_cols]], axis=0)"
   ],
   "metadata": {
    "collapsed": false,
    "pycharm": {
     "name": "#%%\n"
    }
   }
  },
  {
   "cell_type": "markdown",
   "source": [
    "### Postprocessing"
   ],
   "metadata": {
    "collapsed": false,
    "pycharm": {
     "name": "#%% md\n"
    }
   }
  },
  {
   "cell_type": "code",
   "execution_count": 20,
   "outputs": [],
   "source": [
    "# Clip FC\n",
    "overall_preds.prev_FC = overall_preds.prev_FC.clip(lower=0,upper=1)\n",
    "# Zero FC at night for pv\n",
    "overall_preds[(overall_preds.date_cible.dt.hour < 5) \\\n",
    "              & (overall_preds.date_cible.dt.hour >= 23)\\\n",
    "              & (overall_preds.type_prod =='pv')\n",
    "    ] = 0\n",
    "\n",
    "\n",
    "overall_preds.date_cible = pd.to_datetime(overall_preds.date_cible)"
   ],
   "metadata": {
    "collapsed": false,
    "pycharm": {
     "name": "#%%\n"
    }
   }
  },
  {
   "cell_type": "code",
   "execution_count": 29,
   "outputs": [
    {
     "name": "stdout",
     "output_type": "stream",
     "text": [
      "<class 'pandas.core.frame.DataFrame'>\n",
      "Int64Index: 105026 entries, 105108 to 280129\n",
      "Data columns (total 4 columns):\n",
      " #   Column          Non-Null Count   Dtype         \n",
      "---  ------          --------------   -----         \n",
      " 0   date_cible      105026 non-null  datetime64[ns]\n",
      " 1   perimetre_prod  105026 non-null  object        \n",
      " 2   type_prod       105026 non-null  object        \n",
      " 3   prev_FC         105026 non-null  float64       \n",
      "dtypes: datetime64[ns](1), float64(1), object(2)\n",
      "memory usage: 4.0+ MB\n"
     ]
    }
   ],
   "source": [
    "overall_preds.info()"
   ],
   "metadata": {
    "collapsed": false,
    "pycharm": {
     "name": "#%%\n"
    }
   }
  },
  {
   "cell_type": "code",
   "execution_count": 30,
   "outputs": [],
   "source": [
    "overall_preds.to_csv('gams_tiy_alexandre_rozier.csv',sep=';', index=False,date_format='%Y-%m-%dT%H:%M:%SZ',float_format=\"%.3f\",decimal='.')"
   ],
   "metadata": {
    "collapsed": false,
    "pycharm": {
     "name": "#%%\n"
    }
   }
  },
  {
   "cell_type": "code",
   "execution_count": 27,
   "outputs": [
    {
     "data": {
      "text/plain": "105108   2019-01-01 00:00:00\n105110   2019-01-01 00:30:00\n105112   2019-01-01 01:00:00\n105114   2019-01-01 01:30:00\n105116   2019-01-01 02:00:00\n                 ...        \n280121   2019-12-30 23:00:00\n280124   2019-12-30 23:30:00\n280125   2019-12-30 23:30:00\n280128   2019-12-31 00:00:00\n280129   2019-12-31 00:00:00\nName: date_cible, Length: 105026, dtype: datetime64[ns]"
     },
     "execution_count": 27,
     "metadata": {},
     "output_type": "execute_result"
    }
   ],
   "source": [],
   "metadata": {
    "collapsed": false,
    "pycharm": {
     "name": "#%%\n"
    }
   }
  },
  {
   "cell_type": "markdown",
   "source": [
    "# TODO\n",
    "- Remove PV prod at night\n",
    "- Center + scale variables\n",
    "- time in the day\n",
    "\n"
   ],
   "metadata": {
    "collapsed": false,
    "pycharm": {
     "name": "#%% md\n"
    }
   }
  }
 ],
 "metadata": {
  "kernelspec": {
   "display_name": "Python 3 (ipykernel)",
   "language": "python",
   "name": "python3"
  },
  "language_info": {
   "codemirror_mode": {
    "name": "ipython",
    "version": 3
   },
   "file_extension": ".py",
   "mimetype": "text/x-python",
   "name": "python",
   "nbconvert_exporter": "python",
   "pygments_lexer": "ipython3",
   "version": "3.7.10"
  }
 },
 "nbformat": 4,
 "nbformat_minor": 1
}