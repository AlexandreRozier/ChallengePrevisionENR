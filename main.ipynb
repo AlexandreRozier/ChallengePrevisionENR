{
 "cells": [
  {
   "cell_type": "code",
   "execution_count": null,
   "metadata": {},
   "outputs": [],
   "source": [
    "from datetime import datetime\n",
    "\n",
    "import numpy as np\n",
    "import pandas as pd\n",
    "import pyreadr\n",
    "import torch\n",
    "from IPython.core.display import display\n",
    "from torch import sigmoid\n",
    "\n",
    "from astral import LocationInfo\n",
    "from astral.sun import sun\n",
    "from pytorch_lightning import LightningDataModule\n",
    "from sklearn.ensemble import GradientBoostingRegressor\n",
    "from sklearn.preprocessing import StandardScaler\n",
    "from tqdm.auto import tqdm\n",
    "from warML.sklearn.utils import RandomizedCV, get_best_model\n",
    "\n",
    "pd.set_option('display.max_rows', 500)\n",
    "pd.set_option('display.max_columns', 500)\n",
    "pd.set_option('display.width', 1000)\n",
    "\n",
    "%load_ext autoreload\n",
    "%autoreload 2\n",
    "output_cols = ['date_cible','perimetre_prod','type_prod','prev_FC']\n",
    "USELESS_COLS_BY_TYPE = dict(pv=['cubic_norm','angle'],\n",
    "                            eolien=['t2m','ssrd','neb'])\n",
    "\n"
   ]
  },
  {
   "cell_type": "code",
   "execution_count": null,
   "metadata": {
    "pycharm": {
     "name": "#%%\n"
    }
   },
   "outputs": [],
   "source": [
    "meteo_ce_allvars_ecmwf = pyreadr.read_r('meteo_ce_allvar_grille_ecmwf.RDS')[None]\n",
    "prod = pyreadr.read_r('prod.RDS')[None]\n",
    "\n",
    "station_df = pd.read_csv('liste_stations.csv', sep=';')\n",
    "substation_df = pd.read_csv('coord_substations.csv')\n",
    "\n",
    "meteo_locale_allvars_ecmwf = pyreadr.read_r('meteo_locale_allvar_grille_ecmwf.RDS')[None]\n",
    "meteo_locale_vent_mf = pyreadr.read_r('meteo_locale_vent_grille_meteofrance.RDS')[None]\n",
    "\n",
    "meteo_ce_nebtemp_mf = pyreadr.read_r('meteo_ce_nebtemp_station_meteofrance.RDS')[None]\n",
    "meteo_ce_vent_mf = pyreadr.read_r('meteo_ce_vent_grille_meteofrance.RDS')[None]"
   ]
  },
  {
   "cell_type": "code",
   "execution_count": null,
   "metadata": {
    "pycharm": {
     "name": "#%%\n"
    }
   },
   "outputs": [],
   "source": [
    "substation_df.rename(columns=dict(SUBSTATION='perimetre_prod'),inplace=True)\n",
    "substation_df"
   ]
  },
  {
   "cell_type": "code",
   "execution_count": null,
   "metadata": {
    "pycharm": {
     "name": "#%%\n"
    }
   },
   "outputs": [],
   "source": [
    "station_df"
   ]
  },
  {
   "cell_type": "code",
   "execution_count": null,
   "metadata": {
    "pycharm": {
     "name": "#%%\n"
    }
   },
   "outputs": [],
   "source": [
    "def date_to_time_in_year(date:datetime):\n",
    "    return (date - datetime(date.year, month=1,day=1)) / (datetime(date.year+1, month=1,day=1) - datetime(date.year, month=1,day=1) )\n",
    "\n",
    "prod['time_in_day'] = prod.date_cible.apply(lambda dt: (3600*dt.hour+60*dt.minute + dt.second)/(24*3600))\n",
    "prod['time_in_year'] = prod.date_cible.apply(date_to_time_in_year)"
   ]
  },
  {
   "cell_type": "markdown",
   "metadata": {
    "pycharm": {
     "name": "#%% md\n"
    }
   },
   "source": [
    "# Météo"
   ]
  },
  {
   "cell_type": "code",
   "execution_count": null,
   "metadata": {
    "pycharm": {
     "name": "#%%\n"
    }
   },
   "outputs": [],
   "source": [
    "def compute_norm_and_angle(df):\n",
    "    df['cubic_norm'] = np.sqrt(df.u100 ** 2 + df.v100 **2)\n",
    "    df['angle'] = np.arctan2(df.v100, df.u100)\n",
    "    if 'neb' in df.columns:\n",
    "        df['neb'] = df['neb'] / 8\n",
    "    return df.drop(columns=['u100','v100','ff100'])"
   ]
  },
  {
   "cell_type": "markdown",
   "metadata": {
    "pycharm": {
     "name": "#%% md\n"
    }
   },
   "source": [
    "## Météo ECMWF"
   ]
  },
  {
   "cell_type": "code",
   "execution_count": null,
   "metadata": {
    "pycharm": {
     "name": "#%%\n"
    }
   },
   "outputs": [],
   "source": [
    "meteo_ce_allvars_ecmwf.rename(columns={'zone':'perimetre_prod'},inplace=True)\n",
    "meteo_ce_allvars_ecmwf = meteo_ce_allvars_ecmwf[meteo_ce_allvars_ecmwf.perimetre_prod!='France']\n",
    "meteo_ce_allvars_ecmwf = compute_norm_and_angle(meteo_ce_allvars_ecmwf)\n",
    "\n",
    "meteo_ce_allvars_ecmwf\n",
    "# no missing value"
   ]
  },
  {
   "cell_type": "code",
   "execution_count": null,
   "metadata": {
    "pycharm": {
     "name": "#%%\n"
    }
   },
   "outputs": [],
   "source": [
    "meteo_locale_allvars_ecmwf = compute_norm_and_angle(meteo_locale_allvars_ecmwf)\n",
    "\n",
    "meteo_locale_allvars_ecmwf.info()\n"
   ]
  },
  {
   "cell_type": "markdown",
   "metadata": {},
   "source": [
    "## Météo France"
   ]
  },
  {
   "cell_type": "code",
   "execution_count": null,
   "metadata": {
    "pycharm": {
     "name": "#%%\n"
    }
   },
   "outputs": [],
   "source": [
    "#\n",
    "\n",
    "meteo_ce_allvars_mf = meteo_ce_nebtemp_mf.merge(meteo_ce_vent_mf, how='left', on=['date_lancement','date_cible','zone','echeance'])\n",
    "meteo_ce_allvars_mf.rename(columns={'zone':'perimetre_prod'},inplace=True)\n",
    "meteo_ce_allvars_mf = meteo_ce_allvars_mf[meteo_ce_allvars_mf.perimetre_prod!='France']\n",
    "\n",
    "meteo_ce_allvars_mf= compute_norm_and_angle(meteo_ce_allvars_mf)\n",
    "meteo_ce_allvars_mf # missing u100, v100, f100"
   ]
  },
  {
   "cell_type": "code",
   "execution_count": null,
   "metadata": {
    "pycharm": {
     "name": "#%%\n"
    }
   },
   "outputs": [],
   "source": [
    "meteo_locale_vent_mf= compute_norm_and_angle(meteo_locale_vent_mf)\n",
    "meteo_locale_vent_mf.info()"
   ]
  },
  {
   "cell_type": "markdown",
   "metadata": {},
   "source": [
    "## Merge meteos"
   ]
  },
  {
   "cell_type": "code",
   "execution_count": null,
   "metadata": {
    "pycharm": {
     "name": "#%%\n"
    }
   },
   "outputs": [],
   "source": [
    "meteo_ce_merged = meteo_ce_allvars_mf.merge(meteo_ce_allvars_ecmwf, how='inner', on=['date_cible','date_lancement','perimetre_prod','echeance'])\n",
    "meteo_ce_merged.info()"
   ]
  },
  {
   "cell_type": "code",
   "execution_count": null,
   "metadata": {
    "pycharm": {
     "name": "#%%\n"
    }
   },
   "outputs": [],
   "source": [
    "meteo_local_merged = meteo_locale_allvars_ecmwf.merge(meteo_locale_vent_mf, how='inner', on=['date_cible','date_lancement','perimetre_prod','echeance'])\n",
    "meteo_local_merged.info()"
   ]
  },
  {
   "cell_type": "markdown",
   "metadata": {
    "pycharm": {
     "name": "#%% md\n"
    }
   },
   "source": [
    "# Modèles nationaux\n"
   ]
  },
  {
   "cell_type": "markdown",
   "metadata": {},
   "source": [
    "## National Preprocessing"
   ]
  },
  {
   "cell_type": "code",
   "execution_count": null,
   "metadata": {
    "pycharm": {
     "name": "#%%\n"
    }
   },
   "outputs": [],
   "source": [
    "def keep_latest_date_lancement(df):\n",
    "    # Keep valid previsions (date_lancement < veille, 16h)\n",
    "    # Keep latest date_lancement for each date_cible\n",
    "\n",
    "    out = df.groupby(['perimetre_prod', 'date_cible']).last().reset_index()\n",
    "    return out"
   ]
  },
  {
   "cell_type": "code",
   "execution_count": null,
   "metadata": {
    "pycharm": {
     "name": "#%%\n"
    }
   },
   "outputs": [],
   "source": [
    "meteo_ce_merged.info()"
   ]
  },
  {
   "cell_type": "code",
   "execution_count": null,
   "metadata": {
    "pycharm": {
     "name": "#%%\n"
    }
   },
   "outputs": [],
   "source": [
    "valid_meteo_df = keep_latest_date_lancement(meteo_ce_merged)\n",
    "valid_meteo_df = valid_meteo_df.drop(columns=['date_lancement']).pivot_table(index=['date_cible','echeance'],columns='perimetre_prod')\n",
    "\n",
    "valid_meteo_df = valid_meteo_df.reset_index()\n",
    "valid_meteo_df.info()"
   ]
  },
  {
   "cell_type": "code",
   "execution_count": null,
   "metadata": {
    "pycharm": {
     "name": "#%%\n"
    }
   },
   "outputs": [],
   "source": [
    "national_df = prod[prod.perimetre_prod=='national'].merge(valid_meteo_df, on='date_cible', how='inner')\n",
    "national_df.info()\n"
   ]
  },
  {
   "cell_type": "code",
   "execution_count": null,
   "metadata": {
    "pycharm": {
     "name": "#%%\n"
    }
   },
   "outputs": [],
   "source": [
    "class DataModule(LightningDataModule):\n",
    "\n",
    "    def __init__(self,df:pd.DataFrame, type_prod:str,batch_size:int):\n",
    "\n",
    "        super().__init__()\n",
    "        self.df = df\n",
    "        self.type_prod=type_prod\n",
    "        self.batch_size=batch_size\n",
    "\n",
    "    def prepare_data(self):\n",
    "        df = self.df[self.df.type_prod==self.type_prod].drop(columns=['perimetre_prod','type_prod','date_lancement','puissance_installee','comptage'],errors='ignore')\n",
    "        # DROP USELESS COLS\n",
    "        for useless_c in USELESS_COLS_BY_TYPE[self.type_prod]:\n",
    "            df = df[df.columns.drop(list(df.filter(regex=useless_c)))]\n",
    "\n",
    "        df_train = df[df.date_cible.dt.year < 2019].dropna()\n",
    "        df_test = df[df.date_cible.dt.year == 2019]\n",
    "\n",
    "        std_scaler = StandardScaler()\n",
    "        self.df_test = df_test\n",
    "        self.df_train = df_train\n",
    "        self.features = list(df_train.drop(columns=['FC','date_cible']).columns)\n",
    "        self.x_train = torch.from_numpy(std_scaler.fit_transform(df_train.drop(columns=['FC','date_cible']))).float()\n",
    "        self.x_test = torch.from_numpy(std_scaler.transform(df_test.drop(columns=['FC','date_cible']))).float()\n",
    "        self.y_train = torch.from_numpy(df_train['FC'].values).float()\n",
    "        self.y_test = torch.from_numpy(df_test['FC'].values).float()\n",
    "\n",
    "\n",
    "\n",
    "\n",
    "def predict(model, x):\n",
    "    model.eval()\n",
    "    with torch.no_grad():\n",
    "        out = model(x)\n",
    "        return sigmoid(out).numpy()\n",
    "\n"
   ]
  },
  {
   "cell_type": "markdown",
   "metadata": {
    "pycharm": {
     "name": "#%% md\n"
    }
   },
   "source": [
    "## National PV +wind"
   ]
  },
  {
   "cell_type": "code",
   "execution_count": null,
   "metadata": {
    "pycharm": {
     "name": "#%%\n"
    }
   },
   "outputs": [],
   "source": [
    "models =     [\n",
    "        ('XGB',\n",
    "                  GradientBoostingRegressor(),\n",
    "                  dict(n_estimators=[100],\n",
    "                       learning_rate=[1e-1],\n",
    "                       max_depth=[3]))]\n",
    "                  #('PyGAM',\n",
    "                   #LinearGAM(),\n",
    "                  # dict(terms=term_list)\n",
    "                   #)]\n",
    "outs = []"
   ]
  },
  {
   "cell_type": "code",
   "execution_count": null,
   "metadata": {
    "pycharm": {
     "name": "#%%\n"
    }
   },
   "outputs": [],
   "source": [
    "\n",
    "\n",
    "national_preds = pd.DataFrame(columns=output_cols)\n",
    "\n",
    "for type_prod in tqdm(['pv','eolien'], desc=\"Type of prod\"):\n",
    "    dm = DataModule(national_df, type_prod=type_prod, batch_size=32)\n",
    "    dm.prepare_data()\n",
    "\n",
    "    out = RandomizedCV(dm.x_train, dm.y_train,\n",
    "                                            scoring='neg_mean_squared_error',\n",
    "                                            models=models,\n",
    "                                            n_iter=1,\n",
    "                       return_preds=True)\n",
    "    outs.append(out)\n",
    "    best_model = get_best_model(out, metric='score')\n",
    "    test_df = dm.df_test\n",
    "    train_df = dm.df_train\n",
    "\n",
    "    test_df['prev_FC'] = best_model.predict(dm.x_test)\n",
    "    test_df['type_prod'] =type_prod\n",
    "    test_df['perimetre_prod'] ='national'\n",
    "    national_preds = pd.concat([national_preds,test_df[output_cols]])\n",
    "\n"
   ]
  },
  {
   "cell_type": "code",
   "execution_count": null,
   "metadata": {
    "pycharm": {
     "name": "#%%\n"
    }
   },
   "outputs": [],
   "source": [
    "%%time\n",
    "\n",
    "meteo_local_merged = keep_latest_date_lancement(meteo_local_merged)\n",
    "local_df = prod[prod.perimetre_prod!='national'].merge(meteo_local_merged, on=['date_cible','perimetre_prod'], how='inner')\n",
    "local_df.info()"
   ]
  },
  {
   "cell_type": "code",
   "execution_count": null,
   "metadata": {
    "pycharm": {
     "name": "#%%\n"
    }
   },
   "outputs": [],
   "source": [
    "local_preds = pd.DataFrame(columns=output_cols)\n",
    "\n",
    "for perimetre, type_prod in tqdm([('A.COM','eolien'), ('CXSSE','eolien'), ('HOSTE','pv'),('ONDES','pv')],desc=\"Prod type\"):\n",
    "    \n",
    "    dm = DataModule(local_df[local_df.perimetre_prod==perimetre], type_prod=type_prod, batch_size=32)\n",
    "    dm.prepare_data()\n",
    "\n",
    "    out = RandomizedCV(dm.x_train, dm.y_train, scoring='neg_mean_squared_error',\n",
    "                                            models=models,\n",
    "                                           n_iter=1,\n",
    "                       return_preds=True)\n",
    "\n",
    "    outs.append(out)\n",
    "    best_model = get_best_model(out,metric=\"score\")\n",
    "    test_df = dm.df_test\n",
    "    test_df['prev_FC'] = best_model.predict(dm.x_test)\n",
    "    test_df['type_prod'] =type_prod\n",
    "    test_df['perimetre_prod'] =perimetre\n",
    "    local_preds = pd.concat([local_preds,test_df[output_cols]])\n"
   ]
  },
  {
   "cell_type": "markdown",
   "metadata": {
    "pycharm": {
     "name": "#%% md\n"
    }
   },
   "source": [
    "# Postprocessing"
   ]
  },
  {
   "cell_type": "code",
   "execution_count": null,
   "metadata": {
    "pycharm": {
     "name": "#%%\n"
    }
   },
   "outputs": [],
   "source": [
    "# Clip FC\n",
    "overall_preds = pd.concat([national_preds, local_preds])\n",
    "overall_preds.prev_FC = overall_preds.prev_FC.clip(lower=0,upper=1)\n",
    "overall_preds = overall_preds.merge(substation_df, on='perimetre_prod', how='left')\n",
    "overall_preds.date_cible = pd.to_datetime(overall_preds.date_cible, utc=True)\n",
    "\n",
    "overall_preds.groupby(['perimetre_prod','type_prod']).count()"
   ]
  },
  {
   "cell_type": "code",
   "execution_count": null,
   "metadata": {
    "pycharm": {
     "name": "#%%\n"
    }
   },
   "outputs": [],
   "source": [
    "def zero_fc_if_dark(row):\n",
    "    if row.type_prod !='pv':\n",
    "        return row\n",
    "    s = add_sunset_sunrise(row)\n",
    "    if row.date_cible < s['sunrise']  or row.date_cible  > s['sunset'] :\n",
    "        row.prev_FC =0\n",
    "    return row\n",
    "\n",
    "def add_sunset_sunrise(row):\n",
    "    # Don't use lat, lon to zero\n",
    "    if row.perimetre_prod == \"national\":\n",
    "\n",
    "        sunrise = row.date_cible.replace(hour=5)\n",
    "        sunset = row.date_cible.replace(hour=20)\n",
    "    # Use sunrise, sunset hours to zero PV\n",
    "    else:\n",
    "        loc = LocationInfo(latitude=row.LAT, longitude=row.LON)\n",
    "        s = sun(loc.observer, date=row.date_cible, tzinfo=row.date_cible.tzinfo)\n",
    "        sunrise, sunset = s['sunrise'], s['sunset']\n",
    "\n",
    "    return dict(sunset=sunset, sunrise=sunrise)\n",
    "\n",
    "# Zero FC at night for pv\n",
    "overall_preds = overall_preds.apply(zero_fc_if_dark, axis=1)\n",
    "overall_preds\n",
    "\n",
    "\n"
   ]
  },
  {
   "cell_type": "code",
   "execution_count": null,
   "metadata": {
    "pycharm": {
     "name": "#%%\n"
    }
   },
   "outputs": [],
   "source": [
    "\n",
    "name = 'preds/das_gute_model_alexandre_rozier.csv'\n",
    "overall_preds.drop(columns=['LAT','LON']).to_csv(name,sep=';', index=False, date_format='%Y-%m-%dT%H:%M:%SZ',decimal='.')\n"
   ]
  },
  {
   "cell_type": "markdown",
   "metadata": {
    "pycharm": {
     "name": "#%% md\n"
    }
   },
   "source": [
    "# TODO\n",
    "- ~~Remove PV prod at night~~\n",
    "- ~~Center + scale variables~~\n",
    "- ~~time in the day~~\n",
    "- ~~clip pv according to sunrise/sunset information~~\n",
    "- ~~add time in the year~~\n",
    "- hourly models ? -> use more linear models for that\n",
    "- weather correction model\n",
    "- closest mf station\n",
    "- smooth temp\n",
    "- ~~neural net for wind power~~\n",
    "- add RMSE / MAPE / error to nns metrics\n",
    "- add prod of previous week ? allowed ?\n",
    "- ~~**Save output, check it & plot -> add to warML ?**~~\n",
    "\n",
    "### Notes:\n",
    "- echeance seems to help the model take into account uncertainty in forecasts\n"
   ]
  },
  {
   "cell_type": "code",
   "execution_count": null,
   "metadata": {
    "pycharm": {
     "name": "#%%\n"
    }
   },
   "outputs": [],
   "source": []
  },
  {
   "cell_type": "markdown",
   "metadata": {},
   "source": [
    "# Explo predictions\n",
    "Importance de variables"
   ]
  },
  {
   "cell_type": "code",
   "execution_count": null,
   "metadata": {
    "pycharm": {
     "name": "#%%\n"
    }
   },
   "outputs": [],
   "source": [
    "pv_hoste = overall_preds[(overall_preds.type_prod=='pv') & (overall_preds.perimetre_prod=='HOSTE')]\n",
    "pv_hoste[['sunset','sunrise']] = pv_hoste.apply(add_sunset_sunrise,axis=1, result_type='expand')\n",
    "pv_hoste"
   ]
  },
  {
   "cell_type": "code",
   "execution_count": null,
   "metadata": {
    "pycharm": {
     "name": "#%%\n"
    }
   },
   "outputs": [],
   "source": [
    "import plotly.express as px\n",
    "dm = DataModule(national_df, type_prod='pv', batch_size=32)\n",
    "dm.prepare_data()\n",
    "pv_bm = outs[0].best_models['XGB']\n",
    "\n",
    "px.bar(y=pv_bm.feature_importances_, x=dm.features)"
   ]
  },
  {
   "cell_type": "code",
   "execution_count": null,
   "metadata": {
    "pycharm": {
     "name": "#%%\n"
    }
   },
   "outputs": [],
   "source": [
    "dm = DataModule(national_df, type_prod='eolien', batch_size=32)\n",
    "dm.prepare_data()\n",
    "pv_bm = outs[1].best_models['XGB']\n",
    "\n",
    "px.bar(y=pv_bm.feature_importances_, x=dm.features)"
   ]
  },
  {
   "cell_type": "code",
   "execution_count": null,
   "metadata": {
    "pycharm": {
     "name": "#%%\n"
    }
   },
   "outputs": [],
   "source": [
    "for i, (perimetre, type_prod) in enumerate(tqdm([('A.COM','eolien'), ('CXSSE','eolien'), ('HOSTE','pv'),('ONDES','pv')],desc=\"Prod type\")):\n",
    "\n",
    "    dm = DataModule(local_df[local_df.perimetre_prod==perimetre], type_prod=type_prod, batch_size=32)\n",
    "    dm.prepare_data()\n",
    "    bm = outs[i+2].best_models['XGB']\n",
    "\n",
    "    display(px.bar(y=bm.feature_importances_, x=dm.features,title=f'{perimetre} - {type_prod}'))"
   ]
  },
  {
   "cell_type": "code",
   "execution_count": null,
   "metadata": {
    "pycharm": {
     "name": "#%%"
    }
   },
   "outputs": [],
   "source": []
  }
 ],
 "metadata": {
  "kernelspec": {
   "display_name": "Python 3 (ipykernel)",
   "language": "python",
   "name": "python3"
  },
  "language_info": {
   "codemirror_mode": {
    "name": "ipython",
    "version": 3
   },
   "file_extension": ".py",
   "mimetype": "text/x-python",
   "name": "python",
   "nbconvert_exporter": "python",
   "pygments_lexer": "ipython3",
   "version": "3.7.10"
  }
 },
 "nbformat": 4,
 "nbformat_minor": 1
}